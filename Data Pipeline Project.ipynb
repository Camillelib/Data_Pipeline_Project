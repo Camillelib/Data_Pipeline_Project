{
 "cells": [
  {
   "cell_type": "markdown",
   "metadata": {},
   "source": [
    "# Data Pipeline Project: Global shark attacks"
   ]
  },
  {
   "cell_type": "markdown",
   "metadata": {},
   "source": [
    "![Sharks](https://i.pinimg.com/474x/84/a4/11/84a4111793c0dc25d622ece09e9f56a7--great-white-shark-the-great-white.jpg)"
   ]
  },
  {
   "cell_type": "markdown",
   "metadata": {},
   "source": [
    "### Steps:\n",
    "\n",
    "<b> Problem definition </b>\n",
    "\n",
    "1. Data collection/acquisition\n",
    "2. Data cleaning\n",
    "3. Data manipulation including aggregation, etc.\n",
    "4. Data vizualisation (plot, table) "
   ]
  },
  {
   "cell_type": "markdown",
   "metadata": {},
   "source": [
    "## Problem definition:\n",
    "\n",
    "I am representing a global non-profit defending sharks and trying to understand:\n",
    "- What % of attacks lead to death? \n",
    "- Why do attacks occur?\n",
    "- What type of activity is most probable to cause an attack?\n",
    "- Where do they occur? Who is most likely to suffer from an attack ? (gender)\n",
    "\n",
    "In order to:\n",
    "* Protect specific zones if needed from these activities\n",
    "* Prove that most attacks aren't mortal and they are unprovoked, meaning happening where sharks live.\n",
    "* Identify the most likely victims to organize targeted campaigns of preventions."
   ]
  },
  {
   "cell_type": "markdown",
   "metadata": {},
   "source": [
    "## Data collection"
   ]
  },
  {
   "cell_type": "code",
   "execution_count": 89,
   "metadata": {},
   "outputs": [],
   "source": [
    "import pandas as pd\n",
    "import pymysql \n",
    "from sqlalchemy import create_engine\n",
    "import os\n",
    "import numpy as np"
   ]
  },
  {
   "cell_type": "code",
   "execution_count": 90,
   "metadata": {},
   "outputs": [],
   "source": [
    "os.chdir('C:/Users/Camille/Documents/Ecole/Ironhack/Week 2/Data_Pipeline_Project/Data')"
   ]
  },
  {
   "cell_type": "code",
   "execution_count": 91,
   "metadata": {},
   "outputs": [],
   "source": [
    "sharks = pd.read_csv('GSAF5.csv', encoding = \"ISO-8859-1\")"
   ]
  },
  {
   "cell_type": "markdown",
   "metadata": {},
   "source": [
    "### Identifying the data to work with"
   ]
  },
  {
   "cell_type": "code",
   "execution_count": 92,
   "metadata": {},
   "outputs": [
    {
     "data": {
      "text/html": [
       "<div>\n",
       "<style scoped>\n",
       "    .dataframe tbody tr th:only-of-type {\n",
       "        vertical-align: middle;\n",
       "    }\n",
       "\n",
       "    .dataframe tbody tr th {\n",
       "        vertical-align: top;\n",
       "    }\n",
       "\n",
       "    .dataframe thead th {\n",
       "        text-align: right;\n",
       "    }\n",
       "</style>\n",
       "<table border=\"1\" class=\"dataframe\">\n",
       "  <thead>\n",
       "    <tr style=\"text-align: right;\">\n",
       "      <th></th>\n",
       "      <th>Case Number</th>\n",
       "      <th>Date</th>\n",
       "      <th>Year</th>\n",
       "      <th>Type</th>\n",
       "      <th>Country</th>\n",
       "      <th>Area</th>\n",
       "      <th>Location</th>\n",
       "      <th>Activity</th>\n",
       "      <th>Name</th>\n",
       "      <th>Sex</th>\n",
       "      <th>...</th>\n",
       "      <th>Species</th>\n",
       "      <th>Investigator or Source</th>\n",
       "      <th>pdf</th>\n",
       "      <th>href formula</th>\n",
       "      <th>href</th>\n",
       "      <th>Case Number.1</th>\n",
       "      <th>Case Number.2</th>\n",
       "      <th>original order</th>\n",
       "      <th>Unnamed: 22</th>\n",
       "      <th>Unnamed: 23</th>\n",
       "    </tr>\n",
       "  </thead>\n",
       "  <tbody>\n",
       "    <tr>\n",
       "      <th>0</th>\n",
       "      <td>2016.09.18.c</td>\n",
       "      <td>18-Sep-16</td>\n",
       "      <td>2016</td>\n",
       "      <td>Unprovoked</td>\n",
       "      <td>USA</td>\n",
       "      <td>Florida</td>\n",
       "      <td>New Smyrna Beach, Volusia County</td>\n",
       "      <td>Surfing</td>\n",
       "      <td>male</td>\n",
       "      <td>M</td>\n",
       "      <td>...</td>\n",
       "      <td>NaN</td>\n",
       "      <td>Orlando Sentinel, 9/19/2016</td>\n",
       "      <td>2016.09.18.c-NSB.pdf</td>\n",
       "      <td>http://sharkattackfile.net/spreadsheets/pdf_di...</td>\n",
       "      <td>http://sharkattackfile.net/spreadsheets/pdf_di...</td>\n",
       "      <td>2016.09.18.c</td>\n",
       "      <td>2016.09.18.c</td>\n",
       "      <td>5993</td>\n",
       "      <td>NaN</td>\n",
       "      <td>NaN</td>\n",
       "    </tr>\n",
       "    <tr>\n",
       "      <th>1</th>\n",
       "      <td>2016.09.18.b</td>\n",
       "      <td>18-Sep-16</td>\n",
       "      <td>2016</td>\n",
       "      <td>Unprovoked</td>\n",
       "      <td>USA</td>\n",
       "      <td>Florida</td>\n",
       "      <td>New Smyrna Beach, Volusia County</td>\n",
       "      <td>Surfing</td>\n",
       "      <td>Chucky Luciano</td>\n",
       "      <td>M</td>\n",
       "      <td>...</td>\n",
       "      <td>NaN</td>\n",
       "      <td>Orlando Sentinel, 9/19/2016</td>\n",
       "      <td>2016.09.18.b-Luciano.pdf</td>\n",
       "      <td>http://sharkattackfile.net/spreadsheets/pdf_di...</td>\n",
       "      <td>http://sharkattackfile.net/spreadsheets/pdf_di...</td>\n",
       "      <td>2016.09.18.b</td>\n",
       "      <td>2016.09.18.b</td>\n",
       "      <td>5992</td>\n",
       "      <td>NaN</td>\n",
       "      <td>NaN</td>\n",
       "    </tr>\n",
       "    <tr>\n",
       "      <th>2</th>\n",
       "      <td>2016.09.18.a</td>\n",
       "      <td>18-Sep-16</td>\n",
       "      <td>2016</td>\n",
       "      <td>Unprovoked</td>\n",
       "      <td>USA</td>\n",
       "      <td>Florida</td>\n",
       "      <td>New Smyrna Beach, Volusia County</td>\n",
       "      <td>Surfing</td>\n",
       "      <td>male</td>\n",
       "      <td>M</td>\n",
       "      <td>...</td>\n",
       "      <td>NaN</td>\n",
       "      <td>Orlando Sentinel, 9/19/2016</td>\n",
       "      <td>2016.09.18.a-NSB.pdf</td>\n",
       "      <td>http://sharkattackfile.net/spreadsheets/pdf_di...</td>\n",
       "      <td>http://sharkattackfile.net/spreadsheets/pdf_di...</td>\n",
       "      <td>2016.09.18.a</td>\n",
       "      <td>2016.09.18.a</td>\n",
       "      <td>5991</td>\n",
       "      <td>NaN</td>\n",
       "      <td>NaN</td>\n",
       "    </tr>\n",
       "    <tr>\n",
       "      <th>3</th>\n",
       "      <td>2016.09.17</td>\n",
       "      <td>17-Sep-16</td>\n",
       "      <td>2016</td>\n",
       "      <td>Unprovoked</td>\n",
       "      <td>AUSTRALIA</td>\n",
       "      <td>Victoria</td>\n",
       "      <td>Thirteenth Beach</td>\n",
       "      <td>Surfing</td>\n",
       "      <td>Rory Angiolella</td>\n",
       "      <td>M</td>\n",
       "      <td>...</td>\n",
       "      <td>NaN</td>\n",
       "      <td>The Age, 9/18/2016</td>\n",
       "      <td>2016.09.17-Angiolella.pdf</td>\n",
       "      <td>http://sharkattackfile.net/spreadsheets/pdf_di...</td>\n",
       "      <td>http://sharkattackfile.net/spreadsheets/pdf_di...</td>\n",
       "      <td>2016.09.17</td>\n",
       "      <td>2016.09.17</td>\n",
       "      <td>5990</td>\n",
       "      <td>NaN</td>\n",
       "      <td>NaN</td>\n",
       "    </tr>\n",
       "    <tr>\n",
       "      <th>4</th>\n",
       "      <td>2016.09.15</td>\n",
       "      <td>16-Sep-16</td>\n",
       "      <td>2016</td>\n",
       "      <td>Unprovoked</td>\n",
       "      <td>AUSTRALIA</td>\n",
       "      <td>Victoria</td>\n",
       "      <td>Bells Beach</td>\n",
       "      <td>Surfing</td>\n",
       "      <td>male</td>\n",
       "      <td>M</td>\n",
       "      <td>...</td>\n",
       "      <td>2 m shark</td>\n",
       "      <td>The Age, 9/16/2016</td>\n",
       "      <td>2016.09.16-BellsBeach.pdf</td>\n",
       "      <td>http://sharkattackfile.net/spreadsheets/pdf_di...</td>\n",
       "      <td>http://sharkattackfile.net/spreadsheets/pdf_di...</td>\n",
       "      <td>2016.09.16</td>\n",
       "      <td>2016.09.15</td>\n",
       "      <td>5989</td>\n",
       "      <td>NaN</td>\n",
       "      <td>NaN</td>\n",
       "    </tr>\n",
       "  </tbody>\n",
       "</table>\n",
       "<p>5 rows × 24 columns</p>\n",
       "</div>"
      ],
      "text/plain": [
       "    Case Number       Date  Year        Type    Country      Area  \\\n",
       "0  2016.09.18.c  18-Sep-16  2016  Unprovoked        USA   Florida   \n",
       "1  2016.09.18.b  18-Sep-16  2016  Unprovoked        USA   Florida   \n",
       "2  2016.09.18.a  18-Sep-16  2016  Unprovoked        USA   Florida   \n",
       "3    2016.09.17  17-Sep-16  2016  Unprovoked  AUSTRALIA  Victoria   \n",
       "4    2016.09.15  16-Sep-16  2016  Unprovoked  AUSTRALIA  Victoria   \n",
       "\n",
       "                           Location Activity             Name Sex   ...  \\\n",
       "0  New Smyrna Beach, Volusia County  Surfing             male    M  ...   \n",
       "1  New Smyrna Beach, Volusia County  Surfing   Chucky Luciano    M  ...   \n",
       "2  New Smyrna Beach, Volusia County  Surfing             male    M  ...   \n",
       "3                  Thirteenth Beach  Surfing  Rory Angiolella    M  ...   \n",
       "4                       Bells Beach  Surfing             male    M  ...   \n",
       "\n",
       "    Species        Investigator or Source                        pdf  \\\n",
       "0        NaN  Orlando Sentinel, 9/19/2016       2016.09.18.c-NSB.pdf   \n",
       "1        NaN  Orlando Sentinel, 9/19/2016   2016.09.18.b-Luciano.pdf   \n",
       "2        NaN  Orlando Sentinel, 9/19/2016       2016.09.18.a-NSB.pdf   \n",
       "3        NaN           The Age, 9/18/2016  2016.09.17-Angiolella.pdf   \n",
       "4  2 m shark           The Age, 9/16/2016  2016.09.16-BellsBeach.pdf   \n",
       "\n",
       "                                        href formula  \\\n",
       "0  http://sharkattackfile.net/spreadsheets/pdf_di...   \n",
       "1  http://sharkattackfile.net/spreadsheets/pdf_di...   \n",
       "2  http://sharkattackfile.net/spreadsheets/pdf_di...   \n",
       "3  http://sharkattackfile.net/spreadsheets/pdf_di...   \n",
       "4  http://sharkattackfile.net/spreadsheets/pdf_di...   \n",
       "\n",
       "                                                href Case Number.1  \\\n",
       "0  http://sharkattackfile.net/spreadsheets/pdf_di...  2016.09.18.c   \n",
       "1  http://sharkattackfile.net/spreadsheets/pdf_di...  2016.09.18.b   \n",
       "2  http://sharkattackfile.net/spreadsheets/pdf_di...  2016.09.18.a   \n",
       "3  http://sharkattackfile.net/spreadsheets/pdf_di...    2016.09.17   \n",
       "4  http://sharkattackfile.net/spreadsheets/pdf_di...    2016.09.16   \n",
       "\n",
       "  Case Number.2 original order Unnamed: 22 Unnamed: 23  \n",
       "0  2016.09.18.c           5993         NaN         NaN  \n",
       "1  2016.09.18.b           5992         NaN         NaN  \n",
       "2  2016.09.18.a           5991         NaN         NaN  \n",
       "3    2016.09.17           5990         NaN         NaN  \n",
       "4    2016.09.15           5989         NaN         NaN  \n",
       "\n",
       "[5 rows x 24 columns]"
      ]
     },
     "execution_count": 92,
     "metadata": {},
     "output_type": "execute_result"
    }
   ],
   "source": [
    "sharks.head()"
   ]
  },
  {
   "cell_type": "code",
   "execution_count": 93,
   "metadata": {},
   "outputs": [
    {
     "data": {
      "text/html": [
       "<div>\n",
       "<style scoped>\n",
       "    .dataframe tbody tr th:only-of-type {\n",
       "        vertical-align: middle;\n",
       "    }\n",
       "\n",
       "    .dataframe tbody tr th {\n",
       "        vertical-align: top;\n",
       "    }\n",
       "\n",
       "    .dataframe thead th {\n",
       "        text-align: right;\n",
       "    }\n",
       "</style>\n",
       "<table border=\"1\" class=\"dataframe\">\n",
       "  <thead>\n",
       "    <tr style=\"text-align: right;\">\n",
       "      <th></th>\n",
       "      <th>Case Number</th>\n",
       "      <th>Date</th>\n",
       "      <th>Year</th>\n",
       "      <th>Type</th>\n",
       "      <th>Country</th>\n",
       "      <th>Area</th>\n",
       "      <th>Location</th>\n",
       "      <th>Activity</th>\n",
       "      <th>Name</th>\n",
       "      <th>Sex</th>\n",
       "      <th>...</th>\n",
       "      <th>Species</th>\n",
       "      <th>Investigator or Source</th>\n",
       "      <th>pdf</th>\n",
       "      <th>href formula</th>\n",
       "      <th>href</th>\n",
       "      <th>Case Number.1</th>\n",
       "      <th>Case Number.2</th>\n",
       "      <th>original order</th>\n",
       "      <th>Unnamed: 22</th>\n",
       "      <th>Unnamed: 23</th>\n",
       "    </tr>\n",
       "  </thead>\n",
       "  <tbody>\n",
       "    <tr>\n",
       "      <th>5987</th>\n",
       "      <td>ND.0005</td>\n",
       "      <td>Before 1903</td>\n",
       "      <td>0</td>\n",
       "      <td>Unprovoked</td>\n",
       "      <td>AUSTRALIA</td>\n",
       "      <td>Western Australia</td>\n",
       "      <td>Roebuck Bay</td>\n",
       "      <td>Diving</td>\n",
       "      <td>male</td>\n",
       "      <td>M</td>\n",
       "      <td>...</td>\n",
       "      <td>NaN</td>\n",
       "      <td>H. Taunton; N. Bartlett,  p. 234</td>\n",
       "      <td>ND-0005-RoebuckBay.pdf</td>\n",
       "      <td>http://sharkattackfile.net/spreadsheets/pdf_di...</td>\n",
       "      <td>http://sharkattackfile.net/spreadsheets/pdf_di...</td>\n",
       "      <td>ND.0005</td>\n",
       "      <td>ND.0005</td>\n",
       "      <td>6</td>\n",
       "      <td>NaN</td>\n",
       "      <td>NaN</td>\n",
       "    </tr>\n",
       "    <tr>\n",
       "      <th>5988</th>\n",
       "      <td>ND.0004</td>\n",
       "      <td>Before 1903</td>\n",
       "      <td>0</td>\n",
       "      <td>Unprovoked</td>\n",
       "      <td>AUSTRALIA</td>\n",
       "      <td>Western Australia</td>\n",
       "      <td>NaN</td>\n",
       "      <td>Pearl diving</td>\n",
       "      <td>Ahmun</td>\n",
       "      <td>M</td>\n",
       "      <td>...</td>\n",
       "      <td>NaN</td>\n",
       "      <td>H. Taunton; N. Bartlett,  pp. 233-234</td>\n",
       "      <td>ND-0004-Ahmun.pdf</td>\n",
       "      <td>http://sharkattackfile.net/spreadsheets/pdf_di...</td>\n",
       "      <td>http://sharkattackfile.net/spreadsheets/pdf_di...</td>\n",
       "      <td>ND.0004</td>\n",
       "      <td>ND.0004</td>\n",
       "      <td>5</td>\n",
       "      <td>NaN</td>\n",
       "      <td>NaN</td>\n",
       "    </tr>\n",
       "    <tr>\n",
       "      <th>5989</th>\n",
       "      <td>ND.0003</td>\n",
       "      <td>1900-1905</td>\n",
       "      <td>0</td>\n",
       "      <td>Unprovoked</td>\n",
       "      <td>USA</td>\n",
       "      <td>North Carolina</td>\n",
       "      <td>Ocracoke Inlet</td>\n",
       "      <td>Swimming</td>\n",
       "      <td>Coast Guard personnel</td>\n",
       "      <td>M</td>\n",
       "      <td>...</td>\n",
       "      <td>NaN</td>\n",
       "      <td>F. Schwartz, p.23; C. Creswell, GSAF</td>\n",
       "      <td>ND-0003-Ocracoke_1900-1905.pdf</td>\n",
       "      <td>http://sharkattackfile.net/spreadsheets/pdf_di...</td>\n",
       "      <td>http://sharkattackfile.net/spreadsheets/pdf_di...</td>\n",
       "      <td>ND.0003</td>\n",
       "      <td>ND.0003</td>\n",
       "      <td>4</td>\n",
       "      <td>NaN</td>\n",
       "      <td>NaN</td>\n",
       "    </tr>\n",
       "    <tr>\n",
       "      <th>5990</th>\n",
       "      <td>ND.0002</td>\n",
       "      <td>1883-1889</td>\n",
       "      <td>0</td>\n",
       "      <td>Unprovoked</td>\n",
       "      <td>PANAMA</td>\n",
       "      <td>NaN</td>\n",
       "      <td>Panama Bay 8ºN, 79ºW</td>\n",
       "      <td>NaN</td>\n",
       "      <td>Jules Patterson</td>\n",
       "      <td>M</td>\n",
       "      <td>...</td>\n",
       "      <td>NaN</td>\n",
       "      <td>The Sun, 10/20/1938</td>\n",
       "      <td>ND-0002-JulesPatterson.pdf</td>\n",
       "      <td>http://sharkattackfile.net/spreadsheets/pdf_di...</td>\n",
       "      <td>http://sharkattackfile.net/spreadsheets/pdf_di...</td>\n",
       "      <td>ND.0002</td>\n",
       "      <td>ND.0002</td>\n",
       "      <td>3</td>\n",
       "      <td>NaN</td>\n",
       "      <td>NaN</td>\n",
       "    </tr>\n",
       "    <tr>\n",
       "      <th>5991</th>\n",
       "      <td>ND.0001</td>\n",
       "      <td>1845-1853</td>\n",
       "      <td>0</td>\n",
       "      <td>Unprovoked</td>\n",
       "      <td>CEYLON (SRI LANKA)</td>\n",
       "      <td>Eastern Province</td>\n",
       "      <td>Below the English fort, Trincomalee</td>\n",
       "      <td>Swimming</td>\n",
       "      <td>male</td>\n",
       "      <td>M</td>\n",
       "      <td>...</td>\n",
       "      <td>NaN</td>\n",
       "      <td>S.W. Baker</td>\n",
       "      <td>ND-0001-Ceylon.pdf</td>\n",
       "      <td>http://sharkattackfile.net/spreadsheets/pdf_di...</td>\n",
       "      <td>http://sharkattackfile.net/spreadsheets/pdf_di...</td>\n",
       "      <td>ND.0001</td>\n",
       "      <td>ND.0001</td>\n",
       "      <td>2</td>\n",
       "      <td>NaN</td>\n",
       "      <td>NaN</td>\n",
       "    </tr>\n",
       "  </tbody>\n",
       "</table>\n",
       "<p>5 rows × 24 columns</p>\n",
       "</div>"
      ],
      "text/plain": [
       "     Case Number         Date  Year        Type             Country  \\\n",
       "5987     ND.0005  Before 1903     0  Unprovoked           AUSTRALIA   \n",
       "5988     ND.0004  Before 1903     0  Unprovoked           AUSTRALIA   \n",
       "5989     ND.0003    1900-1905     0  Unprovoked                 USA   \n",
       "5990     ND.0002    1883-1889     0  Unprovoked              PANAMA   \n",
       "5991     ND.0001    1845-1853     0  Unprovoked  CEYLON (SRI LANKA)   \n",
       "\n",
       "                   Area                             Location      Activity  \\\n",
       "5987  Western Australia                          Roebuck Bay        Diving   \n",
       "5988  Western Australia                                  NaN  Pearl diving   \n",
       "5989     North Carolina                       Ocracoke Inlet      Swimming   \n",
       "5990                NaN                 Panama Bay 8ºN, 79ºW           NaN   \n",
       "5991   Eastern Province  Below the English fort, Trincomalee      Swimming   \n",
       "\n",
       "                       Name Sex   ... Species   \\\n",
       "5987                   male    M  ...      NaN   \n",
       "5988                  Ahmun    M  ...      NaN   \n",
       "5989  Coast Guard personnel    M  ...      NaN   \n",
       "5990        Jules Patterson    M  ...      NaN   \n",
       "5991                   male    M  ...      NaN   \n",
       "\n",
       "                     Investigator or Source                             pdf  \\\n",
       "5987       H. Taunton; N. Bartlett,  p. 234          ND-0005-RoebuckBay.pdf   \n",
       "5988  H. Taunton; N. Bartlett,  pp. 233-234               ND-0004-Ahmun.pdf   \n",
       "5989   F. Schwartz, p.23; C. Creswell, GSAF  ND-0003-Ocracoke_1900-1905.pdf   \n",
       "5990                    The Sun, 10/20/1938      ND-0002-JulesPatterson.pdf   \n",
       "5991                             S.W. Baker              ND-0001-Ceylon.pdf   \n",
       "\n",
       "                                           href formula  \\\n",
       "5987  http://sharkattackfile.net/spreadsheets/pdf_di...   \n",
       "5988  http://sharkattackfile.net/spreadsheets/pdf_di...   \n",
       "5989  http://sharkattackfile.net/spreadsheets/pdf_di...   \n",
       "5990  http://sharkattackfile.net/spreadsheets/pdf_di...   \n",
       "5991  http://sharkattackfile.net/spreadsheets/pdf_di...   \n",
       "\n",
       "                                                   href Case Number.1  \\\n",
       "5987  http://sharkattackfile.net/spreadsheets/pdf_di...       ND.0005   \n",
       "5988  http://sharkattackfile.net/spreadsheets/pdf_di...       ND.0004   \n",
       "5989  http://sharkattackfile.net/spreadsheets/pdf_di...       ND.0003   \n",
       "5990  http://sharkattackfile.net/spreadsheets/pdf_di...       ND.0002   \n",
       "5991  http://sharkattackfile.net/spreadsheets/pdf_di...       ND.0001   \n",
       "\n",
       "     Case Number.2 original order Unnamed: 22 Unnamed: 23  \n",
       "5987       ND.0005              6         NaN         NaN  \n",
       "5988       ND.0004              5         NaN         NaN  \n",
       "5989       ND.0003              4         NaN         NaN  \n",
       "5990       ND.0002              3         NaN         NaN  \n",
       "5991       ND.0001              2         NaN         NaN  \n",
       "\n",
       "[5 rows x 24 columns]"
      ]
     },
     "execution_count": 93,
     "metadata": {},
     "output_type": "execute_result"
    }
   ],
   "source": [
    "sharks.tail()"
   ]
  },
  {
   "cell_type": "code",
   "execution_count": 94,
   "metadata": {},
   "outputs": [
    {
     "data": {
      "text/plain": [
       "Index(['Case Number', 'Date', 'Year', 'Type', 'Country', 'Area', 'Location',\n",
       "       'Activity', 'Name', 'Sex ', 'Age', 'Injury', 'Fatal (Y/N)', 'Time',\n",
       "       'Species ', 'Investigator or Source', 'pdf', 'href formula', 'href',\n",
       "       'Case Number.1', 'Case Number.2', 'original order', 'Unnamed: 22',\n",
       "       'Unnamed: 23'],\n",
       "      dtype='object')"
      ]
     },
     "execution_count": 94,
     "metadata": {},
     "output_type": "execute_result"
    }
   ],
   "source": [
    "sharks.columns"
   ]
  },
  {
   "cell_type": "code",
   "execution_count": 95,
   "metadata": {},
   "outputs": [
    {
     "data": {
      "text/plain": [
       "RangeIndex(start=0, stop=5992, step=1)"
      ]
     },
     "execution_count": 95,
     "metadata": {},
     "output_type": "execute_result"
    }
   ],
   "source": [
    "sharks.index"
   ]
  },
  {
   "cell_type": "markdown",
   "metadata": {},
   "source": [
    "## Data cleaning"
   ]
  },
  {
   "cell_type": "markdown",
   "metadata": {},
   "source": [
    "### Missing values"
   ]
  },
  {
   "cell_type": "code",
   "execution_count": 96,
   "metadata": {},
   "outputs": [
    {
     "data": {
      "text/plain": [
       "Case Number                  0\n",
       "Date                         0\n",
       "Year                         0\n",
       "Type                         0\n",
       "Country                     43\n",
       "Area                       402\n",
       "Location                   496\n",
       "Activity                   527\n",
       "Name                       200\n",
       "Sex                        567\n",
       "Age                       2681\n",
       "Injury                      27\n",
       "Fatal (Y/N)                 19\n",
       "Time                      3213\n",
       "Species                   2934\n",
       "Investigator or Source      15\n",
       "pdf                          0\n",
       "href formula                 1\n",
       "href                         3\n",
       "Case Number.1                0\n",
       "Case Number.2                0\n",
       "original order               0\n",
       "Unnamed: 22               5991\n",
       "Unnamed: 23               5990\n",
       "dtype: int64"
      ]
     },
     "execution_count": 96,
     "metadata": {},
     "output_type": "execute_result"
    }
   ],
   "source": [
    "#Checking null values\n",
    "null_sharks=sharks.isna().sum()\n",
    "null_sharks"
   ]
  },
  {
   "cell_type": "code",
   "execution_count": 97,
   "metadata": {},
   "outputs": [
    {
     "data": {
      "text/plain": [
       "Country                    0.72\n",
       "Area                       6.71\n",
       "Location                   8.28\n",
       "Activity                   8.80\n",
       "Name                       3.34\n",
       "Sex                        9.46\n",
       "Age                       44.74\n",
       "Injury                     0.45\n",
       "Fatal (Y/N)                0.32\n",
       "Time                      53.62\n",
       "Species                   48.97\n",
       "Investigator or Source     0.25\n",
       "href formula               0.02\n",
       "href                       0.05\n",
       "Unnamed: 22               99.98\n",
       "Unnamed: 23               99.97\n",
       "dtype: float64"
      ]
     },
     "execution_count": 97,
     "metadata": {},
     "output_type": "execute_result"
    }
   ],
   "source": [
    "null_sharks_perc = round(null_sharks[null_sharks>0]/sharks.shape[0]*100,2)\n",
    "null_sharks_perc"
   ]
  },
  {
   "cell_type": "code",
   "execution_count": 98,
   "metadata": {},
   "outputs": [
    {
     "data": {
      "text/plain": [
       "Index(['Case Number', 'Date', 'Year', 'Type', 'Country', 'Area', 'Location',\n",
       "       'Activity', 'Name', 'Sex ', 'Age', 'Injury', 'Fatal (Y/N)', 'Time',\n",
       "       'Species ', 'Investigator or Source', 'pdf', 'href formula', 'href',\n",
       "       'Case Number.1', 'Case Number.2', 'original order'],\n",
       "      dtype='object')"
      ]
     },
     "execution_count": 98,
     "metadata": {},
     "output_type": "execute_result"
    }
   ],
   "source": [
    "# Dropping columns with more than 70% empty values:\n",
    "drop_cols=null_sharks_perc[null_sharks_perc>70].index\n",
    "sharks.drop(drop_cols,axis=1,inplace=True)\n",
    "sharks.columns"
   ]
  },
  {
   "cell_type": "markdown",
   "metadata": {},
   "source": [
    "### Correcting text"
   ]
  },
  {
   "cell_type": "code",
   "execution_count": 99,
   "metadata": {},
   "outputs": [
    {
     "data": {
      "text/html": [
       "<div>\n",
       "<style scoped>\n",
       "    .dataframe tbody tr th:only-of-type {\n",
       "        vertical-align: middle;\n",
       "    }\n",
       "\n",
       "    .dataframe tbody tr th {\n",
       "        vertical-align: top;\n",
       "    }\n",
       "\n",
       "    .dataframe thead th {\n",
       "        text-align: right;\n",
       "    }\n",
       "</style>\n",
       "<table border=\"1\" class=\"dataframe\">\n",
       "  <thead>\n",
       "    <tr style=\"text-align: right;\">\n",
       "      <th></th>\n",
       "      <th>Case Number</th>\n",
       "      <th>Date</th>\n",
       "      <th>Year</th>\n",
       "      <th>Type</th>\n",
       "      <th>Country</th>\n",
       "      <th>Area</th>\n",
       "      <th>Location</th>\n",
       "      <th>Activity</th>\n",
       "      <th>Name</th>\n",
       "      <th>Sex</th>\n",
       "      <th>...</th>\n",
       "      <th>Is_Fatal</th>\n",
       "      <th>Time</th>\n",
       "      <th>Species</th>\n",
       "      <th>Investigator or Source</th>\n",
       "      <th>pdf</th>\n",
       "      <th>href formula</th>\n",
       "      <th>href</th>\n",
       "      <th>Case Number.1</th>\n",
       "      <th>Case Number.2</th>\n",
       "      <th>unique_number</th>\n",
       "    </tr>\n",
       "  </thead>\n",
       "  <tbody>\n",
       "    <tr>\n",
       "      <th>0</th>\n",
       "      <td>2016.09.18.c</td>\n",
       "      <td>18-Sep-16</td>\n",
       "      <td>2016</td>\n",
       "      <td>Unprovoked</td>\n",
       "      <td>USA</td>\n",
       "      <td>Florida</td>\n",
       "      <td>New Smyrna Beach, Volusia County</td>\n",
       "      <td>Surfing</td>\n",
       "      <td>male</td>\n",
       "      <td>M</td>\n",
       "      <td>...</td>\n",
       "      <td>N</td>\n",
       "      <td>13h00</td>\n",
       "      <td>NaN</td>\n",
       "      <td>Orlando Sentinel, 9/19/2016</td>\n",
       "      <td>2016.09.18.c-NSB.pdf</td>\n",
       "      <td>http://sharkattackfile.net/spreadsheets/pdf_di...</td>\n",
       "      <td>http://sharkattackfile.net/spreadsheets/pdf_di...</td>\n",
       "      <td>2016.09.18.c</td>\n",
       "      <td>2016.09.18.c</td>\n",
       "      <td>5993</td>\n",
       "    </tr>\n",
       "  </tbody>\n",
       "</table>\n",
       "<p>1 rows × 22 columns</p>\n",
       "</div>"
      ],
      "text/plain": [
       "    Case Number       Date  Year        Type Country     Area  \\\n",
       "0  2016.09.18.c  18-Sep-16  2016  Unprovoked     USA  Florida   \n",
       "\n",
       "                           Location Activity  Name Sex  ... Is_Fatal   Time  \\\n",
       "0  New Smyrna Beach, Volusia County  Surfing  male   M  ...        N  13h00   \n",
       "\n",
       "  Species       Investigator or Source                   pdf  \\\n",
       "0     NaN  Orlando Sentinel, 9/19/2016  2016.09.18.c-NSB.pdf   \n",
       "\n",
       "                                        href formula  \\\n",
       "0  http://sharkattackfile.net/spreadsheets/pdf_di...   \n",
       "\n",
       "                                                href Case Number.1  \\\n",
       "0  http://sharkattackfile.net/spreadsheets/pdf_di...  2016.09.18.c   \n",
       "\n",
       "  Case Number.2 unique_number  \n",
       "0  2016.09.18.c          5993  \n",
       "\n",
       "[1 rows x 22 columns]"
      ]
     },
     "execution_count": 99,
     "metadata": {},
     "output_type": "execute_result"
    }
   ],
   "source": [
    "#rename some columns:\n",
    "sharks = sharks.rename(columns={'original order':'unique_number','Sex ':'Sex', 'Fatal (Y/N)': 'Is_Fatal', 'Species ':'Species'})\n",
    "sharks.head(1)"
   ]
  },
  {
   "cell_type": "code",
   "execution_count": 100,
   "metadata": {},
   "outputs": [
    {
     "name": "stdout",
     "output_type": "stream",
     "text": [
      "[2016 2015 2014 2013 2012 2011 2010 2009 2008 2007 2006 2005 2004 2003\n",
      " 2002 2001 2000 1999 1998 1997 1996 1995 1984 1994 1993 1992 1991 1990\n",
      " 1989 1969 1988 1987 1986 1985 1983 1982 1981 1980 1979 1978 1977 1976\n",
      " 1975 1974 1973 1972 1971 1970 1968 1967 1966 1965 1964 1963 1962 1961\n",
      " 1960 1959 1958 1957 1956 1955 1954 1953 1952 1951 1950 1949 1948 1848\n",
      " 1947 1946 1945 1944 1943 1942 1941 1940 1939 1938 1937 1936 1935 1934\n",
      " 1933 1932 1931 1930 1929 1928 1927 1926 1925 1924 1923 1922 1921 1920\n",
      " 1919 1918 1917 1916 1915 1914 1913 1912 1911 1910 1909 1908 1907 1906\n",
      " 1905 1904 1903 1902 1901 1900 1899 1898 1897 1896 1895 1894 1893 1892\n",
      " 1891 1890 1889 1888 1887 1886 1885 1884 1883 1882 1881 1880 1879 1878\n",
      " 1877 1876 1875 1874 1873 1872 1871 1870 1869 1868 1867 1866 1865 1864\n",
      " 1863 1862 1861 1860 1859 1858 1856 1855 1854 1853 1852 1851 1850 1849\n",
      " 1847 1846 1845 1844 1842 1841 1840 1839 1837 1836 1835 1834 1832 1831\n",
      " 1830 1829 1828 1827 1826 1825 1822 1819 1818 1817 1816 1812 1811 1807\n",
      " 1805 1804 1803 1800 1791 1788 1787 1785 1779 1776 1771 1767 1764 1758\n",
      " 1749 1755 1748 1742 1738 1733 1721 1703 1700 1642 1638 1637 1617 1595\n",
      " 1580 1555 1554 1543  500   77    5    0]\n",
      "['Unprovoked' 'Boat' 'Provoked' 'Invalid' 'Sea Disaster' 'Boating']\n",
      "['USA' 'AUSTRALIA' 'NEW CALEDONIA' 'REUNION' 'BAHAMAS' 'SPAIN' 'CHINA'\n",
      " 'JAPAN' 'COLUMBIA' 'SOUTH AFRICA' 'EGYPT' 'NEW ZEALAND' 'INDONESIA'\n",
      " 'FRENCH POLYNESIA' 'CAPE VERDE' 'Fiji' 'BRAZIL' 'DOMINICAN REPUBLIC'\n",
      " 'CAYMAN ISLANDS' 'UNITED ARAB EMIRATES' 'ARUBA' 'MOZAMBIQUE' 'THAILAND'\n",
      " 'FIJI' 'PUERTO RICO' 'ITALY' 'MEXICO' 'ATLANTIC OCEAN' 'GREECE'\n",
      " 'MAURITIUS' nan 'ST. MARTIN' 'FRANCE' 'ECUADOR' 'PAPUA NEW GUINEA'\n",
      " 'TRINIDAD & TOBAGO' 'KIRIBATI' 'ISRAEL' 'DIEGO GARCIA' 'TAIWAN' 'JAMAICA'\n",
      " 'PALESTINIAN TERRITORIES' 'GUAM' 'SEYCHELLES' 'BELIZE' 'PHILIPPINES'\n",
      " 'NIGERIA' 'TONGA' 'SCOTLAND' 'CANADA' 'CROATIA' 'SAUDI ARABIA' 'CHILE'\n",
      " 'ANTIGUA' 'KENYA' 'RUSSIA' 'TURKS & CAICOS' 'COSTA RICA' 'UNITED KINGDOM'\n",
      " 'MALAYSIA' 'UNITED ARAB EMIRATES (UAE)' 'SAMOA' 'AZORES'\n",
      " 'SOLOMON ISLANDS' 'SOUTH KOREA' 'MALTA' 'VIETNAM' 'MADAGASCAR' 'PANAMA'\n",
      " 'SOMALIA' 'NEVIS' 'CUBA' 'ENGLAND' 'BRITISH VIRGIN ISLANDS' 'NORWAY'\n",
      " 'SENEGAL' 'YEMEN' 'GULF OF ADEN' 'Sierra Leone' 'ST. MAARTIN'\n",
      " 'GRAND CAYMAN' 'Seychelles' 'LIBERIA' 'VANUATU' 'MEXICO ' 'HONDURAS'\n",
      " 'VENEZUELA' 'SRI LANKA' ' TONGA' 'URUGUAY' 'INDIA' 'MICRONESIA'\n",
      " 'CARIBBEAN SEA' 'OKINAWA' 'TANZANIA' 'MARSHALL ISLANDS' 'EGYPT / ISRAEL'\n",
      " 'NORTHERN ARABIAN SEA' 'HONG KONG' 'EL SALVADOR' 'ANGOLA' 'BERMUDA'\n",
      " 'MONTENEGRO' 'IRAN' 'TUNISIA' 'NAMIBIA' 'NORTH ATLANTIC OCEAN' 'PORTUGAL'\n",
      " 'SOUTH CHINA SEA' 'BANGLADESH' 'PALAU' 'WESTERN SAMOA' 'PACIFIC OCEAN '\n",
      " 'BRITISH ISLES' 'GRENADA' 'IRAQ' 'TURKEY' 'SINGAPORE' 'NEW BRITAIN'\n",
      " 'SUDAN' 'JOHNSTON ISLAND' 'SOUTH PACIFIC OCEAN' 'NEW GUINEA' 'RED SEA'\n",
      " 'NORTH PACIFIC OCEAN' 'FEDERATED STATES OF MICRONESIA'\n",
      " 'MID ATLANTIC OCEAN' 'ADMIRALTY ISLANDS' 'BRITISH WEST INDIES'\n",
      " 'SOUTH ATLANTIC OCEAN' 'PERSIAN GULF' 'RED SEA / INDIAN OCEAN'\n",
      " 'PACIFIC OCEAN' 'NORTH SEA' 'NICARAGUA ' 'MALDIVE ISLANDS'\n",
      " 'AMERICAN SAMOA' 'ANDAMAN / NICOBAR ISLANDAS' 'GABON' 'MAYOTTE'\n",
      " 'NORTH ATLANTIC OCEAN ' 'THE BALKANS' 'SUDAN?' 'ARGENTINA' 'MARTINIQUE'\n",
      " 'INDIAN OCEAN' 'GUATEMALA' 'NETHERLANDS ANTILLES'\n",
      " 'NORTHERN MARIANA ISLANDS' 'IRAN / IRAQ' 'JAVA' 'SIERRA LEONE'\n",
      " ' PHILIPPINES' 'NICARAGUA' 'CENTRAL PACIFIC' 'SOLOMON ISLANDS / VANUATU'\n",
      " 'SOUTHWEST PACIFIC OCEAN' 'BAY OF BENGAL' 'MID-PACIFC OCEAN' 'SLOVENIA'\n",
      " 'CURACAO' 'ITALY / CROATIA' 'BARBADOS' 'MONACO' 'GUYANA' 'HAITI'\n",
      " 'SAN DOMINGO' 'IRELAND' 'KUWAIT' 'LIBYA' 'YEMEN ' 'MEDITERRANEAN SEA?'\n",
      " 'FALKLAND ISLANDS' 'CRETE' 'CYPRUS' 'EGYPT ' 'BURMA' 'LEBANON' 'PARAGUAY'\n",
      " 'BRITISH NEW GUINEA' 'OCEAN' 'GEORGIA' 'SYRIA' 'TUVALU' 'INDIAN OCEAN?'\n",
      " 'GUINEA' 'EQUATORIAL GUINEA / CAMEROON' 'COOK ISLANDS' 'ALGERIA'\n",
      " 'Coast of AFRICA' 'TASMAN SEA' 'GHANA' 'St Helena' 'GREENLAND'\n",
      " 'MEDITERRANEAN SEA' 'SWEDEN' 'ICELAND' 'Between PORTUGAL & INDIA'\n",
      " 'DJIBOUTI' 'BAHREIN' 'KOREA' 'RED SEA?' 'ASIA?' 'CEYLON (SRI LANKA)']\n",
      "['Florida' 'Victoria' 'Western Australia' 'Hawaii' 'North Province'\n",
      " 'South Carolina' 'California' nan 'New Providence Island'\n",
      " 'Alicante Province' 'Hong Kong' 'New South Wales' 'Kochi Prefecture'\n",
      " 'Tasmania' 'Abaco Islands' 'Queensland' 'Alabama' 'Canary Islands'\n",
      " 'Massachusetts' 'North Carolina' 'Isla Provedencia'\n",
      " 'Western Cape Province' 'Texas' 'Suez' 'North Island' 'Bali' 'Tuamotos'\n",
      " 'Grand Terre' 'Boa Vista Island' 'Vanua Levu' 'South Australia'\n",
      " 'Santa Catarina State' 'South Province' 'Altagracia Province'\n",
      " 'Grand Cayman' 'KwaZulu-Natal' 'Fujairah Emirate' 'Grand Canary Island'\n",
      " 'Pernambuco' 'Eastern Cape Province' 'Inhambane Province' 'Phuket'\n",
      " 'Alicante' 'Bora Bora' 'Grand Bahama Island' 'Le Port' 'Rangiroa'\n",
      " 'Saint-Gilles-les-Bains' 'Sardinia' 'Sinaloa' 'Central Tuamotu'\n",
      " 'd\\x92Étang-Salé' 'Granada' 'Cargados Carajos Shoals (St. Brandon)'\n",
      " 'Moorea' 'Catalonia' 'Maryland' 'Louisiana' 'Saint-Leu' 'West End'\n",
      " 'Delaware' 'Atsumi peninsula' 'Palmyra Atoll' 'Wallis and Futuna'\n",
      " 'Galapagos Islands' 'Georgia' 'Baie de Sainte-Marie' 'Society Islands'\n",
      " 'Trinidad' 'South Island' 'Okinawa Prefecture'\n",
      " '740 miles SE of Tarawa Atoll' 'Oregon' 'New Jersey' 'Southern District'\n",
      " 'Bay of Biscay' 'Quintana Roo' 'Exuma Islands' 'Saint-Paul' 'Taitung '\n",
      " 'Kingston Parish' 'Santa Cruz Island' 'Saint-Gilles' 'Tuamotus'\n",
      " 'Eleuthera' 'St. Catherine' 'Palawan' 'Mercury Islands' 'Delta' \"Vava'u\"\n",
      " 'Inner Hebrides' 'Saint Leu' 'Trois-Bassins' 'British Colombia'\n",
      " 'Guerrero' 'Saint-Benoit' 'Tabuk Province' 'Antofagasta Province'\n",
      " \"St John's\" 'Santa Elena' 'East New Britain' 'Bois-Blanc ' 'Moray'\n",
      " 'Puerto Rico' 'Samaná Province' 'Coast Province' 'Central Province'\n",
      " 'Primorsky Krai' 'Peter the Great Bay, Khasan, Primorsky Krai (Far East)'\n",
      " 'Telyakovsky Bay, Khasan,  Primorsky Krai (Far East)' 'Praslin' 'Sucre'\n",
      " 'Middle Caicos' 'Caicos Bank' 'Guanacaste' 'Cornwall'\n",
      " 'San Andrés archipelago' 'Kedah' 'Umm al Qaywayan Province' 'Vitu Levu'\n",
      " 'South Sinai Peninsula' ' Loyalty Islands' 'Saint Gilles ' 'Colima'\n",
      " 'Maine' 'Virginia' \"Ha'api \" 'Western Province' 'Jeju Province'\n",
      " 'New York' 'Binh Dinh Province' 'Antsiranana Province' 'Sinai Peninsula'\n",
      " 'Off Vanua Levu' 'Merizo' 'Rio Grande Do Sul' 'Dubai' 'Torres Strait'\n",
      " 'Eastern Province' 'Eastern Cape  Province' 'Maputo Province' 'Bocas'\n",
      " 'Fife' 'Devon' 'Makira-Ulawa Province' 'Mombasa' 'Catalunya'\n",
      " 'St. Johns Reef' 'Off Green Island' 'North Region' 'Batangas province'\n",
      " 'Strait of Malacca' 'Guantanamo Province' 'Maranhão' 'Red Sea'\n",
      " 'Batanes Provine' 'Luzon' 'Northern Territory' ' Split-Dalmatia Count,'\n",
      " 'North Devon' 'US Virgin Islands' 'San Carlos' 'Cabo San Lucas' 'Sussex'\n",
      " 'Bahia' 'Easter Ross' 'Guerro' 'Yasawa Islands' 'Northern Bahamas'\n",
      " 'Baja California' 'Green Bay' 'Loyalty Islands' 'Marovo Lagoon'\n",
      " 'Territory of Cocos (Keeling) Islands' 'Oslo Fjord' 'Kent' 'Bird Island'\n",
      " 'Providenciales' 'Bimini Islands' 'Muhafazat Hadramawt' 'Cook islans'\n",
      " 'Surigao del Norte' 'Between Somalia & Yemen' 'Ambergris Caye'\n",
      " 'Saint-Pierre' 'Kentucky' 'Andros Islands' 'Guam' 'Western Area'\n",
      " '300 miles from Antigua' '800 miles from land'\n",
      " '600 nm west of the Canary Islands' 'Simpson Bay' 'East Wall'\n",
      " 'Inner Islands' 'Shanghai' 'Malampa Province'\n",
      " \"South Ch'ungch'ong Province\" 'Bay Islands' 'New Mexico'\n",
      " 'Santa Isabel Province' 'Santiago de Cuba Province' 'Camaguey Province'\n",
      " 'Conservatória District' 'South Carolina ' 'Kuril Islands in the Pacific'\n",
      " 'Wakayama Prefecture' \"Nuku'alofa\" 'Saint-Benoît'\n",
      " 'South Island, near Karitane north of Dunedin' 'Rocha' 'Northlands'\n",
      " 'Anzoategui' 'Cook Islands' 'Tamilnadu' 'Pearl Islands' 'Taveuni'\n",
      " 'Johnston Atoll' 'Baatan' 'Rio de Janeiro' 'Nueva Esparta' 'Southland'\n",
      " 'North Pacific coast' 'Caroline Islands' 'Cheshire'\n",
      " 'Louisiade Archipelago'\n",
      " 'KwaZulu-Natal between Port Edward and Port St Johns'\n",
      " 'Milne Bay Province' 'Cikobia Island (north of Vanua Levu)'\n",
      " 'Rayong Province' 'Zamboanga del Sur Province' 'Rio Grande de Norte'\n",
      " 'Off the western coast of peninsular Malaysia' 'Holquin Province'\n",
      " 'New Brunswick' 'Miyako Island' 'Alaska' 'Minerva Reef' 'Madang Province'\n",
      " 'Worcestershire' 'Phang nga Province' 'Alinglaplap Atoll' 'Adriatic Sea'\n",
      " 'Ralik Chain' 'Grand Baie' \"L' Etang Salé-les-Bains\" 'Southern Japan'\n",
      " 'Cap Vert Peninsula' 'Marches region' 'Berry Islands' 'Transvaal' 'Gaza'\n",
      " \"Grand'Anse\" 'Beaufonds' 'Miyako' \"L'Etang-Sale\" 'Chatham Islands '\n",
      " 'South Sinai, Gulf of Aqaba' 'Cat Cay' 'Missouri'\n",
      " '12 miles off the north coast' 'Saint-Paul '\n",
      " 'Chatham Islands, east of New  Zealand' 'Saint-Denis' 'Vava\\x92u'\n",
      " 'Mississippi' 'Clearwater Bay' 'New Territories' 'Aichi Prefecture'\n",
      " 'Tafea Province' 'Kagoshima Prefecture' 'Saint-Joseph' 'Banaadir Region'\n",
      " 'La Libertad' 'Costa Blanca' 'Walkers Cay'\n",
      " 'On the Kowloon penisula, south of Sai Kung' 'Ehime Prefecture'\n",
      " 'Tongapatu Group' 'West Africa' 'Wakaya Island' 'North Carolina '\n",
      " 'Mexico / Caribbean Sea' 'Antarctic Ocean' 'La Saline-les-Bains'\n",
      " 'Sea of Japan' 'Tavenui' 'Ligurian Sea' \"L'Etang-Salé\"\n",
      " 'Kowloon Peninsula' 'Port Shelter' 'Laucala Island' 'Sainte-Marie'\n",
      " 'Great Exuma Island' 'Sainte-Suzanne' 'Tuscany' 'Washington'\n",
      " 'Tyrrhenian Sea' 'New Ireland' 'Valpariso Province' 'Viscayan Sea'\n",
      " 'Manfredonia ' 'Tokyo Prefecture' 'Saint-Louis' 'Mindoro'\n",
      " 'Between DR and Puerto Rico' 'Between Honiara & Isabel Island'\n",
      " 'Florida Straits' 'Gulf of Lyons' 'Cádiz' 'Sicily' 'Andikira Fokithes'\n",
      " 'Central Philippines' 'Rhode Island' 'Northwest Italy' 'English Channel'\n",
      " 'North & South Carolina' 'Kumamoto Prefecture' 'Biserta' 'Saint-Philippe'\n",
      " 'Chungnam' 'Eronogo Region' 'Coquimbo' 'Pagasitikos Gulf'\n",
      " \"St. Mary's Parish\" 'Romblon Province' 'Lamu Archipelago' 'Los Vilos'\n",
      " 'Island of Kos' \"Ha'api\" 'Madeira Islands' 'Ho Ha Wan Marine Park'\n",
      " 'Southern Thailand' 'Golfo de Venezia' 'Ralik Archipelago'\n",
      " 'South China Sea 200 miles from Hong Kong' 'Reggio Calabria Province'\n",
      " 'Mirs Bay ' 'Genoa Province' 'Ganges-Brahmaputra delta'\n",
      " ' Split-Dalmatia County' 'Florida ' 'Primorje-Gorski Kotar County '\n",
      " 'Aulong Island' 'Western Caroline Islands' 'Upolu Island' 'Antibes'\n",
      " 'Illeginni Atoll' 'Istria County' 'South Devon' 'Between Beira & Maputo'\n",
      " 'Khuzestan Province' 'Inhambe Province' 'Namonuito Atoll'\n",
      " 'Eastern Caroline Islands'\n",
      " 'Western Caroline Islands (North Pacific Ocean)' 'Caribbean Sea'\n",
      " 'St. Andrew Parish' '200 nm southeast of Manila' 'Limpopo River'\n",
      " 'New Ireland Province' 'Zadar County' 'Basrah' 'Clarendon' 'Moro Gulf'\n",
      " 'Johor' 'Magdalena Department' 'Mafia Island' 'Gulf Province'\n",
      " 'Morobe Province' 'Limón Province' 'Rombion Province' 'Veracruz'\n",
      " 'Brindisi Province' 'Kagawa Prefecture' 'Liguria' 'Hamilton'\n",
      " 'Out Islands' 'Mugla Province' 'Gibraltar' 'New Britain' 'Bay of Maputo'\n",
      " 'Duke of York Islands' 'Taranto province' 'Northern Taiwan'\n",
      " 'Admiralty Islands, Manus Province' 'North Sumatra'\n",
      " \"250 miles southwest of O'ahu, Hawaii\" 'West coast' 'East Sepik'\n",
      " 'Near Bougainville (North Solomons)' 'East of the Gulf of Aqaba'\n",
      " 'Bougainville (North Solomons)' 'Victoria ' 'Okayama Prefecture'\n",
      " 'San Blas' 'Connecticut' 'Lau Group' 'Caribbean Coast' 'Vita Levu'\n",
      " 'San Blas Islands' 'Puntarenas Province' 'Lomaloma, Lau'\n",
      " 'Between Southampton & Canary Islands' 'South Coast, East New Britain'\n",
      " ' Lau Province' 'Ysabel Island' 'Santo Domingo' 'San Blas coast'\n",
      " 'Thessaly' 'Luzon Island' 'Lomaiviti  Island Group' 'Rodrigues'\n",
      " 'Manus Island' 'Pinas Bay' 'Grand Turk Island' 'Off coast of West Africa'\n",
      " 'Sharon' 'Antalya Province' 'Northern District'\n",
      " 'New Ireland Province, Bismarck Archipelago' 'Cyclades' 'Viti Levu'\n",
      " 'Off the Coromandel Peninsula, North Island' 'Madang'\n",
      " 'Guadalcanal Province' '10ºS, 142ºE' 'Kwajalein Atoll' 'East Flores'\n",
      " 'Guerrrero' 'Western Luzon Island' 'Shefa Province'\n",
      " '165  miles from Bermuda'\n",
      " '25 km off the coast of Iran & 483km from mouth of Persian Gulf'\n",
      " 'Venice Province' 'Sandaun Province' 'Anatolia'\n",
      " 'East New Britain Province' 'United Arab Emirates'\n",
      " 'Wake Island (EnenKio)' '19S, 178?E' 'Pennsylvania' '9.35N 79.35W'\n",
      " 'Roncador Bank' 'Western District' 'Enroute from Suez to Aden (Yemen)'\n",
      " '180 miles southeast of Okinawa' 'Eniwetok Atoll' 'Cap-Vert Peninsula'\n",
      " 'Delagoa Bay' 'In the English Channel ' 'Cook Strait'\n",
      " 'Unknown, treated at Wick, SCOTLAND' 'Corregidor Island' 'Paget'\n",
      " '33N, 68W' 'Casamance' 'Madang (WO)' 'Between Timor & Darwin, Australia'\n",
      " 'Pacific coast' 'St. Georges ' 'Eastern  Province'\n",
      " 'Northwest of Viti Levu' 'West New Britain Province' 'Rigo subdistrict'\n",
      " 'Masbate' '400 miles southeast of Sri Lanka' 'Lomaiviti Province'\n",
      " 'Kadavu' 'Leyte Island' 'Orissa' 'Hokkaido Prefecture' 'North Palawan'\n",
      " 'Queaon' 'Istria' 'PANAMA' 'In the Gulf Stream ' 'Mersin Province'\n",
      " 'Guyamas' 'Between England & South Africa' 'Mindanao'\n",
      " ' Kikori River mouth' 'South Chungcheong Province' 'Ahirkapi coast'\n",
      " 'Tutuila Island' 'Primorje-Gorski Kotar County'\n",
      " 'Between Hawaii & Wake Island' 'Taipei Hsien' 'Ibaraki Prefecture'\n",
      " 'South Pacific Ocean' 'Canal Zone' '1,000 miles east of Hawaii' 'Honiara'\n",
      " 'Yucatan Channel' 'Havana Province' 'Karun River'\n",
      " 'Abau Subdistrict,Central Province' 'New Britain, Bismarck Archipelago'\n",
      " 'Estuaire Province' 'Near Dakar, Cap Vert Peninsula'\n",
      " 'Near the Andaman & Nicobar Islands' 'Mozambique Channel' 'Tyrrenian Sea'\n",
      " 'Congreve Channel' 'St. Thomas Bay' 'Madeira'\n",
      " 'Between Comores & Madagascar' 'Corfu Island' '1000 miles west of Hawaii'\n",
      " 'Izo Islands' ' Primorje-Gorski Kotar County' 'Open sea' 'Aden'\n",
      " 'New Ireland, Bismarck Archipelago' 'Tamil Nadu' '18S / 50E' 'Illinois'\n",
      " 'Isles del Rosario' 'Wake Island' 'Isle of Man' 'Nagasaki Prefecture'\n",
      " 'Liguaria' 'Slovenia' 'South shore ' 'Buenos Aires Province'\n",
      " '330 to 350 miles east of Wake Island' 'Nova Scotia' 'Gulf of Panama'\n",
      " 'Genoa  Province' 'Abau Sub District, Central Province' 'Teramo'\n",
      " 'Red Sea State' 'Curacao' 'Port Louis Province' 'Montserrado'\n",
      " 'Bay of Maputu' 'Salerno' 'Salerno Province' 'Taranto' 'Naples Province'\n",
      " ' La Libertad' 'Sago Prefecture' 'Savona' 'Southern Province'\n",
      " 'Jakarta Harbour' 'Singapore Harbor' 'Calabria' 'Shatt-el-Arab River'\n",
      " 'Shatt-al-Arab River' 'Tamaulipas' 'Calvados Archipelago'\n",
      " 'Shat-Al-Arab River' 'Between Kwajalein Atoll & Johnston Island' 'Attica'\n",
      " 'Adana Province' 'Bandar Ma\\x92shur sea inlet' 'Saipan' 'Carpathian Sea'\n",
      " 'Kwajalein' 'Dar-es-Salaam ' '\"Head of the Gulf\"' 'Ryukyu'\n",
      " ' North Carolina' 'In transit between Tinian and Leyte' 'Northern Java'\n",
      " 'Tel Aviv' 'Colon Province' '300 miles east of Luzon'\n",
      " 'Bernardino Strait near Gulf of Leyte'\n",
      " 'Off Samar Island in the Gulf of Leyte' 'Lake Nicaragua (fresh water)'\n",
      " 'Pacific Ocean' 'Near the Fiji Islands' '40 miles south of Naples '\n",
      " 'Northwest of Papua New Guinea' 'Between Hawaii and U.S.A.'\n",
      " 'Off South American coast' 'Makora-Ulawa Province' '04.05N-13.23W'\n",
      " 'Midway Atoll' '300 miles east of St. Thomas (Virgin Islands)'\n",
      " 'West of Ceylon (Sri  Lanka)' 'East Java' 'Camiguin Island'\n",
      " 'Cay Sal Bank' '(Southwestern Pacific)' 'Panama City' 'Off Libya'\n",
      " 'North of Pernambuco, Brazil' 'Off coast of Ecuador' 'Trelawney Province'\n",
      " 'In Convoy OB 274' 'New Georgia' 'Panama Bay (Pacific Ocean)' 'Bwagaoia'\n",
      " 'Western Papuan Gulf' 'Torres Strait ' 'Carabobo' 'Ascension Bay'\n",
      " 'North China' 'Lower San Juan River' 'Nicoya Peninsula' 'Basrah City'\n",
      " 'West Bengal' 'Queensland ' 'Argyllshire' 'Arran' 'Argyll' 'Newfoundland'\n",
      " 'Isle of Wight' 'Makira-Uluwa Province' 'Northern (Oro) Province'\n",
      " 'Herzliyah' 'Elqui Province' 'Istanbul' 'St Michael Parish'\n",
      " 'Barlavento Islands' 'Viti Levu Island' 'Bay of Fundy' 'Manila'\n",
      " 'French Southern Territories' 'Niua ' 'Black River' 'Phoenix Islands'\n",
      " 'Cienfuegos Province' 'Valencia' 'Santiago Island' 'Near Puntarenas'\n",
      " 'Porto Seguro' 'Salinas Bay' 'Golfo di Genova in the Ligurian Sea'\n",
      " 'Sants-Montjic' 'South of the Equator ' 'Bay of Monaco' 'Valencia '\n",
      " 'Vancouver' '2 to 3 miles off Taboguilla Island, Pacific Ocean' 'Dorset'\n",
      " '150 miles offshore' 'Galica' 'Demerara County' 'Vera Cruz' ' Manila Bay'\n",
      " 'Lucy' 'East Yorkshire' 'Westmoreland Parish' 'Cavite Province, Luzon'\n",
      " 'Cape Haitien' 'Leyte' 'Halifax' 'Turtle Bogue'\n",
      " '60 miles north of San Domingo in the West Indies' 'Colon' 'Off Ireland'\n",
      " 'Mediterranean Sea' 'Gran Canaria' 'Apolima Strait' 'Lagos ' 'Trieste'\n",
      " '5aint-Denis' 'Viti Levu group' 'Balearics' 'Málaga ' 'Chatham Islands'\n",
      " 'Georges Bank' 'Zambesi River' 'Colón Province' '30 nm from Singapore'\n",
      " 'Andalucia' 'Sfax' 'South Atlantic Ocean' 'Galicia' 'Gulf of Suez' 'Java'\n",
      " 'Tiburon Peninsula' 'Oaxaca' 'Harare Province' 'Khánh Hòa Province'\n",
      " 'Maluku Province' 'Between Noumea & Sydney' 'Villa Clara Province'\n",
      " 'Ancona Province' 'Quezon' 'Rio San Juan' 'Southern Cyprus' 'Syracuse'\n",
      " 'Western Viscayas' 'Mindoro Occidental' 'Negros ' 'Imperia Province'\n",
      " 'Muala' 'East coast' 'Ratak ' 'Socotra Islands' 'Off Cape Haitien'\n",
      " 'Moluccas' 'Bocas del Toro' 'Provence' 'Bay of Campeche' 'Rangoon'\n",
      " 'Bay of Bengal' 'Bayelsa State' 'South Island?' 'Norfolk Island'\n",
      " 'Brittany' 'Line Islands' 'Woodlark Islands' 'Munxar Reef'\n",
      " 'Northern Peloponnese' 'Between Perth & Colombo' 'Gujarat' 'Lukovo'\n",
      " 'Cortés' 'Alagoas' 'Somewhere between Philadelphia and Hiogo, Japan'\n",
      " ' New Jersey' \"Côte d'Azur  \" 'Western Banks' 'Andaman Islands'\n",
      " 'Off the coast of West Africa' 'Misamis Oriental' 'Strait of Messina'\n",
      " 'Hoogly River' 'Cyclades archipelago' 'Mount Lebanon'\n",
      " 'Between Hastings & Fairlight, Sussex' 'Gilbert Islands'\n",
      " 'Lomaiviti Provine' 'Off the coast of South America' '22ºN, 88ºE'\n",
      " 'Veracruz ' 'Matanzas Province (north coast)' 'Alpes Maritime'\n",
      " 'Edinburgh' 'Eastern Catalona' 'Foveaux Strait' 'Conakry Region' 'Corfu'\n",
      " 'Malaga' 'Bonin Islands' 'Fernando Po Island' 'Mangaia Island'\n",
      " 'New York ' 'Corfu ' 'Between Australia & USA' 'Tongatapu' 'Norfolk'\n",
      " 'Island of St. Thomas' 'Sanma Province' \"35º39 : 165º8'\" 'Western Area '\n",
      " 'Paraiba' 'Cape Coast' 'Rivers State' 'Maharashtra' 'St. Anne'\n",
      " \"Côte d'Azur \" 'Skagerrak arm of the North Sea' 'Las Perlas archipelago'\n",
      " 'Bardestrand' 'Southwest coast' 'Kerala' 'Nice & Marseilles'\n",
      " 'Magarita or Cubagua Islands' 'Ionian Sea' 'Piraeus' 'Off Thessaly'\n",
      " 'Bocas del Toro Province' 'Rocha ' 'Gulf of Tadjoura' 'Cyrenaica'\n",
      " 'Northern Province' 'Los Roques  Islands' 'Dodecanese Islands'\n",
      " 'Malaita Province' 'South Korea' 'Milne Bay  Province' 'Island of Volos'\n",
      " 'Amirante Islands' 'Kadavu Island Group' 'Toamasina Province'\n",
      " 'Riau Province' 'Bikini Atoll' 'Between New Ireland & New Britain'\n",
      " 'Ba Ria-Vung Tau  Province' 'Moala Island']\n",
      "['Surfing' 'Fishing' 'Wading' ...\n",
      " 'Crew swimming alongside their anchored ship' '4 men were bathing'\n",
      " 'Wreck of  large double sailing canoe']\n",
      "['M' nan 'F' 'M ' 'lli' 'N' '.']\n",
      "['N' 'Y' nan 'UNKNOWN' ' N' 'F' 'N ' '#VALUE!' 'n']\n"
     ]
    }
   ],
   "source": [
    "#checking formats\n",
    "\n",
    "print(sharks.Year.unique()) #seems ok\n",
    "print(sharks.Type.unique()) #noticing wrong text values > corrected\n",
    "print(sharks.Country.unique())  #missing text values > corrected\n",
    "print(sharks.Area.unique()) #missing text values > corrected\n",
    "print(sharks.Activity.unique()) #noticing lots of values > corrected\n",
    "print(sharks.Sex.unique()) #noticing wrong text values/empty > corrected\n",
    "print(sharks.Is_Fatal.unique()) #noticing wrong text values/empty > corrected"
   ]
  },
  {
   "cell_type": "code",
   "execution_count": 101,
   "metadata": {},
   "outputs": [
    {
     "data": {
      "text/plain": [
       "array(['N', 'Y', nan, 'UNKNOWN'], dtype=object)"
      ]
     },
     "execution_count": 101,
     "metadata": {},
     "output_type": "execute_result"
    }
   ],
   "source": [
    "#Replacing Is_Fatal\n",
    "sharks.Is_Fatal=sharks.Is_Fatal.str.replace(' N','N').str.replace('n','N').str.replace('#VALUE!','UNKNOWN').str.replace('N ','N').str.replace('F','UNKNOWN')\n",
    "sharks.Is_Fatal.unique()"
   ]
  },
  {
   "cell_type": "code",
   "execution_count": 102,
   "metadata": {},
   "outputs": [
    {
     "data": {
      "text/plain": [
       "array(['M', nan, 'F', 'UNKNOWN'], dtype=object)"
      ]
     },
     "execution_count": 102,
     "metadata": {},
     "output_type": "execute_result"
    }
   ],
   "source": [
    "#Replacing Sex\n",
    "sharks.Sex=sharks.Sex.str.replace('M ','M').str.replace('N','UNKNOWN').str.replace('lli','UNKNOWN').str.replace('.','UNKNOWN')\n",
    "sharks.Sex.unique()"
   ]
  },
  {
   "cell_type": "code",
   "execution_count": 103,
   "metadata": {},
   "outputs": [
    {
     "data": {
      "text/plain": [
       "array(['Unprovoked', 'UNKNOWN', 'Provoked'], dtype=object)"
      ]
     },
     "execution_count": 103,
     "metadata": {},
     "output_type": "execute_result"
    }
   ],
   "source": [
    "#Replacing Type\n",
    "sharks.Type=sharks.Type.str.replace('Boating','UNKNOWN').str.replace('Invalid','UNKNOWN').str.replace('Sea Disaster','UNKNOWN').str.replace('Boat', 'UNKNOWN')\n",
    "sharks.Type.unique()"
   ]
  },
  {
   "cell_type": "code",
   "execution_count": 104,
   "metadata": {},
   "outputs": [
    {
     "data": {
      "text/plain": [
       "array(['M', 'UNKNOWN', 'F'], dtype=object)"
      ]
     },
     "execution_count": 104,
     "metadata": {},
     "output_type": "execute_result"
    }
   ],
   "source": [
    "#filling empty string by \"UNKNOWN\" for Is_Fatal, Sex, Activity, Country, Area, Age\n",
    "sharks[['Is_Fatal','Sex','Activity', 'Country', 'Area', 'Age']]=sharks[['Is_Fatal','Sex','Activity', 'Country', 'Area', 'Age']].fillna('UNKNOWN')\n",
    "sharks.Sex.unique()"
   ]
  },
  {
   "cell_type": "code",
   "execution_count": 105,
   "metadata": {},
   "outputs": [
    {
     "data": {
      "text/plain": [
       "1493"
      ]
     },
     "execution_count": 105,
     "metadata": {},
     "output_type": "execute_result"
    }
   ],
   "source": [
    "#Replacing Activity: checking how many different activities\n",
    "sharks.Activity.nunique()"
   ]
  },
  {
   "cell_type": "code",
   "execution_count": 106,
   "metadata": {},
   "outputs": [
    {
     "data": {
      "text/plain": [
       "<bound method Series.unique of 0            Surfing\n",
       "1            Surfing\n",
       "2            Surfing\n",
       "3            Surfing\n",
       "4            Surfing\n",
       "            ...     \n",
       "5987          Diving\n",
       "5988    Pearl diving\n",
       "5989        Swimming\n",
       "5990         UNKNOWN\n",
       "5991        Swimming\n",
       "Name: Activity, Length: 5992, dtype: object>"
      ]
     },
     "execution_count": 106,
     "metadata": {},
     "output_type": "execute_result"
    }
   ],
   "source": [
    "sharks.Activity.unique"
   ]
  },
  {
   "cell_type": "code",
   "execution_count": 107,
   "metadata": {},
   "outputs": [
    {
     "name": "stdout",
     "output_type": "stream",
     "text": [
      "Wall time: 0 ns\n"
     ]
    }
   ],
   "source": [
    "%time\n",
    "\n",
    "sharks.loc[sharks['Activity'].str.contains('diving', case=False), 'Activity'] = 'Diving'\n",
    "sharks.loc[sharks['Activity'].str.contains('dived',case=False), 'Activity'] = 'Diving'\n",
    "sharks.loc[sharks['Activity'].str.contains('swim', case=False), 'Activity'] = 'Swimming'\n",
    "sharks.loc[sharks['Activity'].str.contains('bath', case=False), 'Activity'] = 'Swimming'\n",
    "sharks.loc[sharks['Activity'].str.contains('fish', case=False), 'Activity'] = 'Fishing'\n",
    "sharks.loc[sharks['Activity'].str.contains('sail',case=False), 'Activity'] = 'Sailing'\n",
    "sharks.loc[sharks['Activity'].str.contains('surf',case=False), 'Activity'] = 'Surfing'\n",
    "sharks.loc[sharks['Activity'].str.contains('snorkel',case=False), 'Activity'] = 'Snorkeling'\n",
    "sharks.loc[sharks['Activity'].str.contains('wading',case=False), 'Activity'] = 'Wading'\n",
    "sharks.loc[sharks['Activity'].str.contains('canoe',case=False), 'Activity'] = 'Canoeing'\n",
    "sharks.loc[sharks['Activity'].str.contains('sink',case=False), 'Activity'] = 'Boating'\n",
    "sharks.loc[sharks['Activity'].str.contains('sank',case=False), 'Activity'] = 'Boating'\n",
    "sharks.loc[sharks['Activity'].str.contains('wreck',case=False), 'Activity'] = 'Boating'\n",
    "sharks.loc[sharks['Activity'].str.contains('boat',case=False), 'Activity'] = 'Boating'\n",
    "sharks.loc[sharks['Activity'].str.contains('raft',case=False), 'Activity'] = 'Boating'\n",
    "sharks.loc[sharks['Activity'].str.contains('bark',case=False), 'Activity'] = 'Boating'\n",
    "sharks.loc[sharks['Activity'].str.contains('catamaran',case=False), 'Activity'] = 'Boating'\n",
    "sharks.loc[sharks['Activity'].str.contains('ship',case=False), 'Activity'] = 'Boating'\n",
    "sharks.loc[sharks['Activity'].str.contains('vessel',case=False), 'Activity'] = 'Boating'\n",
    "sharks.loc[sharks['Activity'].str.contains('cargo',case=False), 'Activity'] = 'Boating'\n",
    "sharks.loc[sharks['Activity'].str.contains('yacht',case=False), 'Activity'] = 'Boating'\n",
    "sharks.loc[sharks['Activity'].str.contains('fish',case=False), 'Activity'] = 'Fishing'\n",
    "sharks.loc[sharks['Activity'].str.contains('fell',case=False), 'Activity'] = 'Falling'\n",
    "sharks.loc[sharks['Activity'].str.contains('fall',case=False), 'Activity'] = 'Falling'\n",
    "sharks.loc[sharks['Activity'].str.contains('air',case=False), 'Activity'] = 'Air_crash'\n",
    "sharks.loc[sharks['Activity'].str.contains('plane',case=False), 'Activity'] = 'Air_crash'\n",
    "sharks.loc[sharks['Activity'].str.contains('board',case=False), 'Activity'] = 'Boarding_sports'\n",
    "sharks.loc[sharks['Activity'].str.contains('stand',case=False), 'Activity'] = 'Standing'\n",
    "sharks.loc[sharks['Activity'].str.contains('play',case=False), 'Activity'] = 'Playing'\n",
    "sharks.loc[sharks['Activity'].str.contains('kayak',case=False), 'Activity'] = 'Kayaking'\n",
    "sharks.loc[sharks['Activity'].str.contains('walk',case=False), 'Activity'] = 'Walking'"
   ]
  },
  {
   "cell_type": "code",
   "execution_count": 108,
   "metadata": {},
   "outputs": [],
   "source": [
    "activity_list = ['UNKNOWN','Diving', 'Swimming', 'Fishing', 'Bathing', 'Kayaking', 'Sailing', 'Surfing', 'Snorkeling', 'Wading', 'Boating', 'Canoeing','Falling','Air_crash', 'Boarding_sports','Standing', 'Playing', 'Walking']"
   ]
  },
  {
   "cell_type": "code",
   "execution_count": 109,
   "metadata": {},
   "outputs": [],
   "source": [
    "#Replacing all other activites by 'Other reason'\n",
    "\n",
    "sharks.loc[~sharks['Activity'].isin(activity_list), 'Activity'] = 'Other_reason'"
   ]
  },
  {
   "cell_type": "code",
   "execution_count": 110,
   "metadata": {},
   "outputs": [
    {
     "data": {
      "text/plain": [
       "18"
      ]
     },
     "execution_count": 110,
     "metadata": {},
     "output_type": "execute_result"
    }
   ],
   "source": [
    "#Checking how many unique activites after correction\n",
    "\n",
    "sharks.Activity.nunique()"
   ]
  },
  {
   "cell_type": "code",
   "execution_count": 111,
   "metadata": {},
   "outputs": [
    {
     "data": {
      "text/plain": [
       "array(['Surfing', 'Fishing', 'Wading', 'Swimming', 'Boarding_sports',\n",
       "       'Snorkeling', 'Kayaking', 'Other_reason', 'UNKNOWN', 'Diving',\n",
       "       'Standing', 'Walking', 'Playing', 'Canoeing', 'Air_crash',\n",
       "       'Falling', 'Sailing', 'Boating'], dtype=object)"
      ]
     },
     "execution_count": 111,
     "metadata": {},
     "output_type": "execute_result"
    }
   ],
   "source": [
    "sharks.Activity.unique()"
   ]
  },
  {
   "cell_type": "markdown",
   "metadata": {},
   "source": [
    "### Identifying outliers and odd values"
   ]
  },
  {
   "cell_type": "code",
   "execution_count": 112,
   "metadata": {},
   "outputs": [
    {
     "data": {
      "image/png": "[encoded data removed]",
      "text/plain": [
       "<Figure size 432x288 with 1 Axes>"
      ]
     },
     "metadata": {
      "needs_background": "light"
     },
     "output_type": "display_data"
    }
   ],
   "source": [
    "# Checking values with box plots for years\n",
    "\n",
    "sharks.Year.plot.box();"
   ]
  },
  {
   "cell_type": "code",
   "execution_count": 113,
   "metadata": {},
   "outputs": [
    {
     "data": {
      "text/html": [
       "<div>\n",
       "<style scoped>\n",
       "    .dataframe tbody tr th:only-of-type {\n",
       "        vertical-align: middle;\n",
       "    }\n",
       "\n",
       "    .dataframe tbody tr th {\n",
       "        vertical-align: top;\n",
       "    }\n",
       "\n",
       "    .dataframe thead th {\n",
       "        text-align: right;\n",
       "    }\n",
       "</style>\n",
       "<table border=\"1\" class=\"dataframe\">\n",
       "  <thead>\n",
       "    <tr style=\"text-align: right;\">\n",
       "      <th></th>\n",
       "      <th>Case Number</th>\n",
       "      <th>Date</th>\n",
       "      <th>Year</th>\n",
       "      <th>Type</th>\n",
       "      <th>Country</th>\n",
       "      <th>Area</th>\n",
       "      <th>Location</th>\n",
       "      <th>Activity</th>\n",
       "      <th>Name</th>\n",
       "      <th>Sex</th>\n",
       "      <th>...</th>\n",
       "      <th>Is_Fatal</th>\n",
       "      <th>Time</th>\n",
       "      <th>Species</th>\n",
       "      <th>Investigator or Source</th>\n",
       "      <th>pdf</th>\n",
       "      <th>href formula</th>\n",
       "      <th>href</th>\n",
       "      <th>Case Number.1</th>\n",
       "      <th>Case Number.2</th>\n",
       "      <th>unique_number</th>\n",
       "    </tr>\n",
       "  </thead>\n",
       "  <tbody>\n",
       "    <tr>\n",
       "      <th>5751</th>\n",
       "      <td>1852.00.00</td>\n",
       "      <td>1852</td>\n",
       "      <td>1852</td>\n",
       "      <td>Unprovoked</td>\n",
       "      <td>USA</td>\n",
       "      <td>South Carolina</td>\n",
       "      <td>Mount Pleasant, Charleston County</td>\n",
       "      <td>Wading</td>\n",
       "      <td>Charles Chambers</td>\n",
       "      <td>M</td>\n",
       "      <td>...</td>\n",
       "      <td>Y</td>\n",
       "      <td>NaN</td>\n",
       "      <td>NaN</td>\n",
       "      <td>W. H. Gregg, p. 21</td>\n",
       "      <td>1852.00.00-Chambers.pdf</td>\n",
       "      <td>http://sharkattackfile.net/spreadsheets/pdf_di...</td>\n",
       "      <td>http://sharkattackfile.net/spreadsheets/pdf_di...</td>\n",
       "      <td>1852.00.00</td>\n",
       "      <td>1852.00.00</td>\n",
       "      <td>242</td>\n",
       "    </tr>\n",
       "    <tr>\n",
       "      <th>5752</th>\n",
       "      <td>1851.06.19.R</td>\n",
       "      <td>Reported 19-Jun-1851</td>\n",
       "      <td>1851</td>\n",
       "      <td>Unprovoked</td>\n",
       "      <td>MEXICO</td>\n",
       "      <td>Oaxaca</td>\n",
       "      <td>NaN</td>\n",
       "      <td>Swimming</td>\n",
       "      <td>John Gray &amp; another member of the Tehuantepec ...</td>\n",
       "      <td>M</td>\n",
       "      <td>...</td>\n",
       "      <td>Y</td>\n",
       "      <td>NaN</td>\n",
       "      <td>NaN</td>\n",
       "      <td>Burlington Hawk-Eye, 6/19/1851</td>\n",
       "      <td>1851.06.19.R-JohnGray.pdf</td>\n",
       "      <td>http://sharkattackfile.net/spreadsheets/pdf_di...</td>\n",
       "      <td>http://sharkattackfile.net/spreadsheets/pdf_di...</td>\n",
       "      <td>1851.06.19.R</td>\n",
       "      <td>1851.06.19.R</td>\n",
       "      <td>241</td>\n",
       "    </tr>\n",
       "    <tr>\n",
       "      <th>5753</th>\n",
       "      <td>1851.03.08.R</td>\n",
       "      <td>Mar-1851</td>\n",
       "      <td>1851</td>\n",
       "      <td>Unprovoked</td>\n",
       "      <td>USA</td>\n",
       "      <td>Hawaii</td>\n",
       "      <td>Honolulu Harbor</td>\n",
       "      <td>Swimming</td>\n",
       "      <td>James Kinney</td>\n",
       "      <td>M</td>\n",
       "      <td>...</td>\n",
       "      <td>Y</td>\n",
       "      <td>NaN</td>\n",
       "      <td>NaN</td>\n",
       "      <td>The Friend (Honolulu), 3/8/1851</td>\n",
       "      <td>1851.03.08.R-Kinney.pdf</td>\n",
       "      <td>http://sharkattackfile.net/spreadsheets/pdf_di...</td>\n",
       "      <td>http://sharkattackfile.net/spreadsheets/pdf_di...</td>\n",
       "      <td>1851.03.08.R</td>\n",
       "      <td>1851.03.08.R</td>\n",
       "      <td>240</td>\n",
       "    </tr>\n",
       "    <tr>\n",
       "      <th>5754</th>\n",
       "      <td>1851.00.00</td>\n",
       "      <td>1851</td>\n",
       "      <td>1851</td>\n",
       "      <td>Unprovoked</td>\n",
       "      <td>USA</td>\n",
       "      <td>California</td>\n",
       "      <td>San Francisco Bay (or San Leandro Bay), near c...</td>\n",
       "      <td>Diving</td>\n",
       "      <td>William Cortigan</td>\n",
       "      <td>M</td>\n",
       "      <td>...</td>\n",
       "      <td>N</td>\n",
       "      <td>NaN</td>\n",
       "      <td>18' shark</td>\n",
       "      <td>The Perry Chief, 10/16/1875</td>\n",
       "      <td>1851.00.00-Cortigan.pdf</td>\n",
       "      <td>http://sharkattackfile.net/spreadsheets/pdf_di...</td>\n",
       "      <td>http://sharkattackfile.net/spreadsheets/pdf_di...</td>\n",
       "      <td>1851.00.00</td>\n",
       "      <td>1851.00.00</td>\n",
       "      <td>239</td>\n",
       "    </tr>\n",
       "    <tr>\n",
       "      <th>5755</th>\n",
       "      <td>1850.00.00</td>\n",
       "      <td>1850</td>\n",
       "      <td>1850</td>\n",
       "      <td>Unprovoked</td>\n",
       "      <td>NICARAGUA</td>\n",
       "      <td>Lake Nicaragua (fresh water)</td>\n",
       "      <td>Granada, Granada Department</td>\n",
       "      <td>Swimming</td>\n",
       "      <td>NaN</td>\n",
       "      <td>M</td>\n",
       "      <td>...</td>\n",
       "      <td>Y</td>\n",
       "      <td>NaN</td>\n",
       "      <td>NaN</td>\n",
       "      <td>E. Squier, 1852, vol. 1</td>\n",
       "      <td>1850.00.00-LakeNicaragua.pdf</td>\n",
       "      <td>http://sharkattackfile.net/spreadsheets/pdf_di...</td>\n",
       "      <td>http://sharkattackfile.net/spreadsheets/pdf_di...</td>\n",
       "      <td>1850.00.00</td>\n",
       "      <td>1850.00.00</td>\n",
       "      <td>238</td>\n",
       "    </tr>\n",
       "  </tbody>\n",
       "</table>\n",
       "<p>5 rows × 22 columns</p>\n",
       "</div>"
      ],
      "text/plain": [
       "       Case Number                  Date  Year        Type    Country  \\\n",
       "5751    1852.00.00                  1852  1852  Unprovoked        USA   \n",
       "5752  1851.06.19.R  Reported 19-Jun-1851  1851  Unprovoked     MEXICO   \n",
       "5753  1851.03.08.R              Mar-1851  1851  Unprovoked        USA   \n",
       "5754    1851.00.00                  1851  1851  Unprovoked        USA   \n",
       "5755    1850.00.00                  1850  1850  Unprovoked  NICARAGUA   \n",
       "\n",
       "                              Area  \\\n",
       "5751                South Carolina   \n",
       "5752                        Oaxaca   \n",
       "5753                        Hawaii   \n",
       "5754                    California   \n",
       "5755  Lake Nicaragua (fresh water)   \n",
       "\n",
       "                                               Location  Activity  \\\n",
       "5751                  Mount Pleasant, Charleston County    Wading   \n",
       "5752                                                NaN  Swimming   \n",
       "5753                                    Honolulu Harbor  Swimming   \n",
       "5754  San Francisco Bay (or San Leandro Bay), near c...    Diving   \n",
       "5755                        Granada, Granada Department  Swimming   \n",
       "\n",
       "                                                   Name Sex  ... Is_Fatal  \\\n",
       "5751                                   Charles Chambers   M  ...        Y   \n",
       "5752  John Gray & another member of the Tehuantepec ...   M  ...        Y   \n",
       "5753                                       James Kinney   M  ...        Y   \n",
       "5754                                   William Cortigan   M  ...        N   \n",
       "5755                                                NaN   M  ...        Y   \n",
       "\n",
       "     Time    Species           Investigator or Source  \\\n",
       "5751  NaN        NaN               W. H. Gregg, p. 21   \n",
       "5752  NaN        NaN   Burlington Hawk-Eye, 6/19/1851   \n",
       "5753  NaN        NaN  The Friend (Honolulu), 3/8/1851   \n",
       "5754  NaN  18' shark      The Perry Chief, 10/16/1875   \n",
       "5755  NaN        NaN          E. Squier, 1852, vol. 1   \n",
       "\n",
       "                               pdf  \\\n",
       "5751       1852.00.00-Chambers.pdf   \n",
       "5752     1851.06.19.R-JohnGray.pdf   \n",
       "5753       1851.03.08.R-Kinney.pdf   \n",
       "5754       1851.00.00-Cortigan.pdf   \n",
       "5755  1850.00.00-LakeNicaragua.pdf   \n",
       "\n",
       "                                           href formula  \\\n",
       "5751  http://sharkattackfile.net/spreadsheets/pdf_di...   \n",
       "5752  http://sharkattackfile.net/spreadsheets/pdf_di...   \n",
       "5753  http://sharkattackfile.net/spreadsheets/pdf_di...   \n",
       "5754  http://sharkattackfile.net/spreadsheets/pdf_di...   \n",
       "5755  http://sharkattackfile.net/spreadsheets/pdf_di...   \n",
       "\n",
       "                                                   href Case Number.1  \\\n",
       "5751  http://sharkattackfile.net/spreadsheets/pdf_di...    1852.00.00   \n",
       "5752  http://sharkattackfile.net/spreadsheets/pdf_di...  1851.06.19.R   \n",
       "5753  http://sharkattackfile.net/spreadsheets/pdf_di...  1851.03.08.R   \n",
       "5754  http://sharkattackfile.net/spreadsheets/pdf_di...    1851.00.00   \n",
       "5755  http://sharkattackfile.net/spreadsheets/pdf_di...    1850.00.00   \n",
       "\n",
       "     Case Number.2 unique_number  \n",
       "5751    1852.00.00           242  \n",
       "5752  1851.06.19.R           241  \n",
       "5753  1851.03.08.R           240  \n",
       "5754    1851.00.00           239  \n",
       "5755    1850.00.00           238  \n",
       "\n",
       "[5 rows x 22 columns]"
      ]
     },
     "execution_count": 113,
     "metadata": {},
     "output_type": "execute_result"
    }
   ],
   "source": [
    "# Deleting data before 1850\n",
    "sharks = sharks.drop(sharks[sharks.Year < 1850].index)\n",
    "sharks.tail()"
   ]
  },
  {
   "cell_type": "markdown",
   "metadata": {},
   "source": [
    "## Data Manipulation"
   ]
  },
  {
   "cell_type": "code",
   "execution_count": 114,
   "metadata": {},
   "outputs": [],
   "source": [
    "# saving the file to a new file\n",
    "os.chdir('C:/Users/Camille/Documents/Ecole/Ironhack/Week 2/Data_Pipeline_Project/Output')\n",
    "sharks.to_csv('new_sharks.csv') "
   ]
  },
  {
   "cell_type": "code",
   "execution_count": 115,
   "metadata": {},
   "outputs": [
    {
     "data": {
      "text/html": [
       "<div>\n",
       "<style scoped>\n",
       "    .dataframe tbody tr th:only-of-type {\n",
       "        vertical-align: middle;\n",
       "    }\n",
       "\n",
       "    .dataframe tbody tr th {\n",
       "        vertical-align: top;\n",
       "    }\n",
       "\n",
       "    .dataframe thead th {\n",
       "        text-align: right;\n",
       "    }\n",
       "</style>\n",
       "<table border=\"1\" class=\"dataframe\">\n",
       "  <thead>\n",
       "    <tr style=\"text-align: right;\">\n",
       "      <th></th>\n",
       "      <th>Year</th>\n",
       "      <th>Number_year</th>\n",
       "    </tr>\n",
       "  </thead>\n",
       "  <tbody>\n",
       "    <tr>\n",
       "      <th>0</th>\n",
       "      <td>1850</td>\n",
       "      <td>1</td>\n",
       "    </tr>\n",
       "    <tr>\n",
       "      <th>1</th>\n",
       "      <td>1851</td>\n",
       "      <td>3</td>\n",
       "    </tr>\n",
       "    <tr>\n",
       "      <th>2</th>\n",
       "      <td>1852</td>\n",
       "      <td>10</td>\n",
       "    </tr>\n",
       "    <tr>\n",
       "      <th>3</th>\n",
       "      <td>1853</td>\n",
       "      <td>7</td>\n",
       "    </tr>\n",
       "    <tr>\n",
       "      <th>4</th>\n",
       "      <td>1854</td>\n",
       "      <td>1</td>\n",
       "    </tr>\n",
       "    <tr>\n",
       "      <th>...</th>\n",
       "      <td>...</td>\n",
       "      <td>...</td>\n",
       "    </tr>\n",
       "    <tr>\n",
       "      <th>161</th>\n",
       "      <td>2012</td>\n",
       "      <td>117</td>\n",
       "    </tr>\n",
       "    <tr>\n",
       "      <th>162</th>\n",
       "      <td>2013</td>\n",
       "      <td>122</td>\n",
       "    </tr>\n",
       "    <tr>\n",
       "      <th>163</th>\n",
       "      <td>2014</td>\n",
       "      <td>125</td>\n",
       "    </tr>\n",
       "    <tr>\n",
       "      <th>164</th>\n",
       "      <td>2015</td>\n",
       "      <td>139</td>\n",
       "    </tr>\n",
       "    <tr>\n",
       "      <th>165</th>\n",
       "      <td>2016</td>\n",
       "      <td>103</td>\n",
       "    </tr>\n",
       "  </tbody>\n",
       "</table>\n",
       "<p>166 rows × 2 columns</p>\n",
       "</div>"
      ],
      "text/plain": [
       "     Year  Number_year\n",
       "0    1850            1\n",
       "1    1851            3\n",
       "2    1852           10\n",
       "3    1853            7\n",
       "4    1854            1\n",
       "..    ...          ...\n",
       "161  2012          117\n",
       "162  2013          122\n",
       "163  2014          125\n",
       "164  2015          139\n",
       "165  2016          103\n",
       "\n",
       "[166 rows x 2 columns]"
      ]
     },
     "execution_count": 115,
     "metadata": {},
     "output_type": "execute_result"
    }
   ],
   "source": [
    "#Goal: aggregate the data for number of attacks per year\n",
    "\n",
    "attacks_year = pd.DataFrame(sharks.groupby(\"Year\")[\"Year\"].count())\n",
    "attacks_year.rename(columns={'Year':'Number_year'}, inplace=True)\n",
    "attacks_year.reset_index()"
   ]
  },
  {
   "cell_type": "markdown",
   "metadata": {},
   "source": [
    "### Create 3 tables per top country"
   ]
  },
  {
   "cell_type": "code",
   "execution_count": 116,
   "metadata": {},
   "outputs": [
    {
     "data": {
      "text/plain": [
       "USA             2081\n",
       "AUSTRALIA       1236\n",
       "SOUTH AFRICA     557\n",
       "Name: Country, dtype: int64"
      ]
     },
     "execution_count": 116,
     "metadata": {},
     "output_type": "execute_result"
    }
   ],
   "source": [
    "#Checking top 3 country:\n",
    "pd.Series(sharks.Country.value_counts()).nlargest(3)"
   ]
  },
  {
   "cell_type": "code",
   "execution_count": 117,
   "metadata": {},
   "outputs": [
    {
     "data": {
      "text/html": [
       "<div>\n",
       "<style scoped>\n",
       "    .dataframe tbody tr th:only-of-type {\n",
       "        vertical-align: middle;\n",
       "    }\n",
       "\n",
       "    .dataframe tbody tr th {\n",
       "        vertical-align: top;\n",
       "    }\n",
       "\n",
       "    .dataframe thead th {\n",
       "        text-align: right;\n",
       "    }\n",
       "</style>\n",
       "<table border=\"1\" class=\"dataframe\">\n",
       "  <thead>\n",
       "    <tr style=\"text-align: right;\">\n",
       "      <th></th>\n",
       "      <th>Country</th>\n",
       "      <th>Area</th>\n",
       "    </tr>\n",
       "  </thead>\n",
       "  <tbody>\n",
       "    <tr>\n",
       "      <th>0</th>\n",
       "      <td>USA</td>\n",
       "      <td>Florida</td>\n",
       "    </tr>\n",
       "    <tr>\n",
       "      <th>1</th>\n",
       "      <td>USA</td>\n",
       "      <td>Florida</td>\n",
       "    </tr>\n",
       "    <tr>\n",
       "      <th>2</th>\n",
       "      <td>USA</td>\n",
       "      <td>Florida</td>\n",
       "    </tr>\n",
       "    <tr>\n",
       "      <th>3</th>\n",
       "      <td>AUSTRALIA</td>\n",
       "      <td>Victoria</td>\n",
       "    </tr>\n",
       "    <tr>\n",
       "      <th>4</th>\n",
       "      <td>AUSTRALIA</td>\n",
       "      <td>Victoria</td>\n",
       "    </tr>\n",
       "    <tr>\n",
       "      <th>...</th>\n",
       "      <td>...</td>\n",
       "      <td>...</td>\n",
       "    </tr>\n",
       "    <tr>\n",
       "      <th>5751</th>\n",
       "      <td>USA</td>\n",
       "      <td>South Carolina</td>\n",
       "    </tr>\n",
       "    <tr>\n",
       "      <th>5752</th>\n",
       "      <td>MEXICO</td>\n",
       "      <td>Oaxaca</td>\n",
       "    </tr>\n",
       "    <tr>\n",
       "      <th>5753</th>\n",
       "      <td>USA</td>\n",
       "      <td>Hawaii</td>\n",
       "    </tr>\n",
       "    <tr>\n",
       "      <th>5754</th>\n",
       "      <td>USA</td>\n",
       "      <td>California</td>\n",
       "    </tr>\n",
       "    <tr>\n",
       "      <th>5755</th>\n",
       "      <td>NICARAGUA</td>\n",
       "      <td>Lake Nicaragua (fresh water)</td>\n",
       "    </tr>\n",
       "  </tbody>\n",
       "</table>\n",
       "<p>5755 rows × 2 columns</p>\n",
       "</div>"
      ],
      "text/plain": [
       "        Country                          Area\n",
       "0           USA                       Florida\n",
       "1           USA                       Florida\n",
       "2           USA                       Florida\n",
       "3     AUSTRALIA                      Victoria\n",
       "4     AUSTRALIA                      Victoria\n",
       "...         ...                           ...\n",
       "5751        USA                South Carolina\n",
       "5752     MEXICO                        Oaxaca\n",
       "5753        USA                        Hawaii\n",
       "5754        USA                    California\n",
       "5755  NICARAGUA  Lake Nicaragua (fresh water)\n",
       "\n",
       "[5755 rows x 2 columns]"
      ]
     },
     "execution_count": 117,
     "metadata": {},
     "output_type": "execute_result"
    }
   ],
   "source": [
    "# Goal: aggregate countries and areas\n",
    "#sharks_area = pd.DataFrame( sharks.Country, sharks.Area, sharks.Area.value_counts())\n",
    "\n",
    "sharks_area = sharks.filter(['Country','Area'], axis=1)\n",
    "sharks_area"
   ]
  },
  {
   "cell_type": "code",
   "execution_count": 118,
   "metadata": {},
   "outputs": [
    {
     "data": {
      "text/plain": [
       "Florida           979\n",
       "Hawaii            277\n",
       "California        273\n",
       "South Carolina    137\n",
       "North Carolina     99\n",
       "Name: Area, dtype: int64"
      ]
     },
     "execution_count": 118,
     "metadata": {},
     "output_type": "execute_result"
    }
   ],
   "source": [
    "# Creating table for the US\n",
    "sharks_area_us=sharks_area.loc[sharks_area['Country'] == 'USA']\n",
    "sharks_area_us.Area.value_counts().nlargest(5)"
   ]
  },
  {
   "cell_type": "code",
   "execution_count": 119,
   "metadata": {},
   "outputs": [
    {
     "data": {
      "text/plain": [
       "New South Wales      450\n",
       "Queensland           294\n",
       "Western Australia    167\n",
       "South Australia      101\n",
       "Victoria              80\n",
       "Name: Area, dtype: int64"
      ]
     },
     "execution_count": 119,
     "metadata": {},
     "output_type": "execute_result"
    }
   ],
   "source": [
    "# Creating table for Australia\n",
    "sharks_area_oz=sharks_area.loc[sharks_area['Country'] == 'AUSTRALIA']\n",
    "sharks_area_oz.Area.value_counts().nlargest(5)"
   ]
  },
  {
   "cell_type": "code",
   "execution_count": 120,
   "metadata": {},
   "outputs": [
    {
     "data": {
      "text/plain": [
       "KwaZulu-Natal            205\n",
       "Western Cape Province    186\n",
       "Eastern Cape Province    155\n",
       "UNKNOWN                    5\n",
       "Western Province           1\n",
       "Name: Area, dtype: int64"
      ]
     },
     "execution_count": 120,
     "metadata": {},
     "output_type": "execute_result"
    }
   ],
   "source": [
    "# Creating table for South Africa\n",
    "sharks_area_za=sharks_area.loc[sharks_area['Country'] == 'SOUTH AFRICA']\n",
    "sharks_area_za.Area.value_counts().nlargest(5)"
   ]
  },
  {
   "cell_type": "markdown",
   "metadata": {},
   "source": [
    "## Data Vizualisation"
   ]
  },
  {
   "cell_type": "markdown",
   "metadata": {},
   "source": [
    "Output wanted: \n",
    "\n",
    "- Evolution of shark attacks from the first attack recorded (line chart)\n",
    "- % of fatal vs not fatal attacks (pie chart)\n",
    "- % of unprovoked vs provoked attacks (pie chart)\n",
    "- Breakdown of shark attacks per gender (pie chart)\n",
    "- All attacks ranked by activity (barchart)\n",
    "- Countries with all attacks recorded ranked (barchart)\n",
    "- Within the top 3 countries for shark attacks, % of region where attacks occur (pie chart) \n"
   ]
  },
  {
   "cell_type": "code",
   "execution_count": 121,
   "metadata": {},
   "outputs": [],
   "source": [
    "from matplotlib import cm\n",
    "import matplotlib.pyplot as plt\n",
    "import seaborn as sns"
   ]
  },
  {
   "cell_type": "code",
   "execution_count": 122,
   "metadata": {},
   "outputs": [],
   "source": [
    "def save_viz(barchart):\n",
    "    os.chdir('C:/Users/Camille/Documents/Ecole/Ironhack/Week 2/Data_Pipeline_Project/Output')\n",
    "    fig = barchart.get_figure()\n",
    "    fig.savefig(title+ '.png')"
   ]
  },
  {
   "cell_type": "code",
   "execution_count": 123,
   "metadata": {},
   "outputs": [
    {
     "data": {
      "image/png": "[encoded data removed]",
      "text/plain": [
       "<Figure size 1080x504 with 1 Axes>"
      ]
     },
     "metadata": {
      "needs_background": "light"
     },
     "output_type": "display_data"
    }
   ],
   "source": [
    "# evolution of shark attacks per year from 1850\n",
    "chart_attacks_year=attacks_year.plot(figsize=(15, 7)).set_title('Total shark attacks per year from 1850', fontsize=15)\n",
    "title='Total shark attacks per year from 1850'\n",
    "save_viz(chart_attacks_year)"
   ]
  },
  {
   "cell_type": "markdown",
   "metadata": {},
   "source": [
    "#### Conclusion: the number of attack per year is under 140 globally each year."
   ]
  },
  {
   "cell_type": "code",
   "execution_count": 124,
   "metadata": {},
   "outputs": [
    {
     "data": {
      "text/plain": [
       "N          4223\n",
       "Y          1430\n",
       "UNKNOWN     102\n",
       "Name: Is_Fatal, dtype: int64"
      ]
     },
     "execution_count": 124,
     "metadata": {},
     "output_type": "execute_result"
    }
   ],
   "source": [
    "#Creating a series for Is_Fatal injuries\n",
    "\n",
    "sharks_fatal = pd.Series(sharks.Is_Fatal.value_counts())\n",
    "sharks_fatal"
   ]
  },
  {
   "cell_type": "code",
   "execution_count": 125,
   "metadata": {},
   "outputs": [
    {
     "data": {
      "image/png": "[encoded data removed]",
      "text/plain": [
       "<Figure size 360x360 with 1 Axes>"
      ]
     },
     "metadata": {},
     "output_type": "display_data"
    }
   ],
   "source": [
    "#Creating a pie chart for Is_Fatal\n",
    "sharks_fatal_chart=sharks_fatal.plot.pie(labels=['NON FATAL', 'FATAL', 'UNKNOWN'], colors=['green', 'r', 'grey'],autopct='%.2f', fontsize=10, figsize=(5, 5)).set_title('Fatal injuries from sharks', fontsize=15)\n",
    "title='Fatal injuries from sharks'\n",
    "save_viz(sharks_fatal_chart)"
   ]
  },
  {
   "cell_type": "markdown",
   "metadata": {},
   "source": [
    "#### Conclusion: majority of shark attacks are not fatal"
   ]
  },
  {
   "cell_type": "code",
   "execution_count": 126,
   "metadata": {},
   "outputs": [
    {
     "data": {
      "text/plain": [
       "Unprovoked    4188\n",
       "UNKNOWN       1018\n",
       "Provoked       549\n",
       "Name: Type, dtype: int64"
      ]
     },
     "execution_count": 126,
     "metadata": {},
     "output_type": "execute_result"
    }
   ],
   "source": [
    "#Creating a series for Type injuries\n",
    "\n",
    "sharks_type = pd.Series(sharks.Type.value_counts())\n",
    "sharks_type"
   ]
  },
  {
   "cell_type": "code",
   "execution_count": 127,
   "metadata": {},
   "outputs": [
    {
     "data": {
      "image/png": "[encoded data removed]",
      "text/plain": [
       "<Figure size 360x360 with 1 Axes>"
      ]
     },
     "metadata": {},
     "output_type": "display_data"
    }
   ],
   "source": [
    "#Creating a pie chart for Type\n",
    "sharks_type_chart=sharks_type.plot.pie(colors=['orange', 'grey', 'brown'],autopct='%.2f', fontsize=10, figsize=(5, 5)).set_title('Types of attacks from sharks', fontsize=15)\n",
    "\n",
    "title='Types of attacks from sharks'\n",
    "save_viz(sharks_type_chart)"
   ]
  },
  {
   "cell_type": "markdown",
   "metadata": {},
   "source": [
    "#### Conclusion: majority of shark attacks are unprovoked, meaning the human shouldn't have been in the area where the shark is living"
   ]
  },
  {
   "cell_type": "code",
   "execution_count": 128,
   "metadata": {},
   "outputs": [
    {
     "data": {
      "text/plain": [
       "M          4642\n",
       "F           567\n",
       "UNKNOWN     546\n",
       "Name: Sex, dtype: int64"
      ]
     },
     "execution_count": 128,
     "metadata": {},
     "output_type": "execute_result"
    }
   ],
   "source": [
    "#Creating a series for Sex\n",
    "\n",
    "sharks_sex= pd.Series(sharks.Sex.value_counts())\n",
    "sharks_sex"
   ]
  },
  {
   "cell_type": "code",
   "execution_count": 129,
   "metadata": {},
   "outputs": [
    {
     "data": {
      "image/png": "[encoded data removed]",
      "text/plain": [
       "<Figure size 360x360 with 1 Axes>"
      ]
     },
     "metadata": {},
     "output_type": "display_data"
    }
   ],
   "source": [
    "#Creating a pie chart for Sex\n",
    "sharks_sex_chart=sharks_sex.plot.pie(colors=['c', 'purple', 'grey'],autopct='%.2f', fontsize=10, figsize=(5, 5)).set_title('Distribution of shark attacks per gender', fontsize=15)\n",
    "\n",
    "title='Distribution of shark attacks per gender'\n",
    "save_viz(sharks_sex_chart)"
   ]
  },
  {
   "cell_type": "markdown",
   "metadata": {},
   "source": [
    "#### Most of shark attacks happen to men: they need to be the principal target of our preventive campaign"
   ]
  },
  {
   "cell_type": "code",
   "execution_count": 130,
   "metadata": {},
   "outputs": [
    {
     "data": {
      "text/plain": [
       "Swimming           1178\n",
       "Surfing            1111\n",
       "Fishing            1084\n",
       "Diving              546\n",
       "UNKNOWN             476\n",
       "Other_reason        445\n",
       "Boating             226\n",
       "Boarding_sports     158\n",
       "Wading              152\n",
       "Standing            119\n",
       "Snorkeling           78\n",
       "Falling              50\n",
       "Kayaking             31\n",
       "Air_crash            27\n",
       "Canoeing             23\n",
       "Walking              18\n",
       "Sailing              17\n",
       "Playing              16\n",
       "Name: Activities when attacked by a shark, dtype: int64"
      ]
     },
     "execution_count": 130,
     "metadata": {},
     "output_type": "execute_result"
    }
   ],
   "source": [
    "#Creating a series for activity type \n",
    "\n",
    "sharks_activity = pd.Series(sharks.Activity.value_counts(), name ='Activities when attacked by a shark')\n",
    "sharks_activity"
   ]
  },
  {
   "cell_type": "code",
   "execution_count": 141,
   "metadata": {},
   "outputs": [
    {
     "data": {
      "image/png": "[encoded data removed]",
      "text/plain": [
       "<Figure size 1080x720 with 1 Axes>"
      ]
     },
     "metadata": {
      "needs_background": "light"
     },
     "output_type": "display_data"
    }
   ],
   "source": [
    "# Creating a ranked bar chart of activities\n",
    "sharks_activity_chart=sharks_activity.plot.bar(fontsize=10, figsize=(15, 10)).set_title('Ranking of activities per total shark attacks', fontsize=15)\n",
    "\n",
    "title='Ranking of activities per total shark attacks'\n",
    "save_viz(sharks_activity_chart)"
   ]
  },
  {
   "cell_type": "markdown",
   "metadata": {},
   "source": [
    "#### Conclusion: top 3 activities when being attacked by a shark are swimming, surfing and fishing. These are the 3 activites to watch closely."
   ]
  },
  {
   "cell_type": "code",
   "execution_count": 132,
   "metadata": {},
   "outputs": [
    {
     "data": {
      "text/plain": [
       "USA                 2081\n",
       "AUSTRALIA           1236\n",
       "SOUTH AFRICA         557\n",
       "PAPUA NEW GUINEA     129\n",
       "NEW ZEALAND          124\n",
       "BRAZIL               101\n",
       "BAHAMAS               95\n",
       "MEXICO                79\n",
       "ITALY                 67\n",
       "PHILIPPINES           59\n",
       "Name: Country, dtype: int64"
      ]
     },
     "execution_count": 132,
     "metadata": {},
     "output_type": "execute_result"
    }
   ],
   "source": [
    "#Creating a series for top 10 countries\n",
    "\n",
    "sharks_country = pd.Series(sharks.Country.value_counts()).nlargest(10)\n",
    "sharks_country"
   ]
  },
  {
   "cell_type": "code",
   "execution_count": 142,
   "metadata": {},
   "outputs": [
    {
     "data": {
      "image/png": "[encoded data removed]",
      "text/plain": [
       "<Figure size 1080x720 with 1 Axes>"
      ]
     },
     "metadata": {
      "needs_background": "light"
     },
     "output_type": "display_data"
    }
   ],
   "source": [
    "# Creating a ranked bar chart of countries\n",
    "sharks_country_chart=sharks_country.plot.bar(fontsize=10, figsize=(15, 10)).set_title('Top 10 countries per total number of shark attacks', fontsize=15)\n",
    "\n",
    "title='Top 10 countries per total number of shark attacks'\n",
    "save_viz(sharks_country_chart)"
   ]
  },
  {
   "cell_type": "markdown",
   "metadata": {},
   "source": [
    "#### Conclusion: top 3 countries where to focus our next campaign are USA, Australia and South Africa"
   ]
  },
  {
   "cell_type": "code",
   "execution_count": 134,
   "metadata": {},
   "outputs": [],
   "source": [
    "# Find out the top 3 areas for attacks within these countries"
   ]
  },
  {
   "cell_type": "code",
   "execution_count": 144,
   "metadata": {},
   "outputs": [
    {
     "data": {
      "image/png": "[encoded data removed]",
      "text/plain": [
       "<Figure size 1080x720 with 1 Axes>"
      ]
     },
     "metadata": {
      "needs_background": "light"
     },
     "output_type": "display_data"
    }
   ],
   "source": [
    "# Creating a ranked bar chart of areas for the US\n",
    "sharks_area_us_chart=sharks_area_us.Area.value_counts().nlargest(5).plot.bar(fontsize=10, figsize=(15, 10), color='Darkblue').set_title('Top 5 American regions per total number of shark attacks', fontsize=15)\n",
    "\n",
    "title='Top 5 American regions per total number of shark attacks'\n",
    "save_viz(sharks_area_us_chart)"
   ]
  },
  {
   "cell_type": "code",
   "execution_count": 146,
   "metadata": {},
   "outputs": [
    {
     "data": {
      "image/png": "[encoded data removed]",
      "text/plain": [
       "<Figure size 1080x720 with 1 Axes>"
      ]
     },
     "metadata": {
      "needs_background": "light"
     },
     "output_type": "display_data"
    }
   ],
   "source": [
    "#Bar chart for Australian regions\n",
    "\n",
    "sharks_area_oz_chart=sharks_area_oz.Area.value_counts().nlargest(5).plot.bar(fontsize=10, figsize=(15, 10), color='Darkgreen').set_title('Top 5 Australian regions per total number of shark attacks', fontsize=15)\n",
    "\n",
    "title='Top 5 Australian regions per total number of shark attacks'\n",
    "save_viz(sharks_area_oz_chart)"
   ]
  },
  {
   "cell_type": "code",
   "execution_count": 145,
   "metadata": {},
   "outputs": [
    {
     "data": {
      "image/png": "[encoded data removed]",
      "text/plain": [
       "<Figure size 1080x720 with 1 Axes>"
      ]
     },
     "metadata": {
      "needs_background": "light"
     },
     "output_type": "display_data"
    }
   ],
   "source": [
    "#Bar chart for South Africa\n",
    "sharks_area_za_chart=za_chart=sharks_area_za.Area.value_counts().nlargest(5).plot.bar(fontsize=10, figsize=(15, 10), color='Darkorange').set_title('Top 5 South African regions per total number of shark attacks', fontsize=15)\n",
    "\n",
    "title='Top 5 South African regions per total number of shark attacks'\n",
    "save_viz(sharks_area_za_chart)"
   ]
  },
  {
   "cell_type": "code",
   "execution_count": null,
   "metadata": {},
   "outputs": [],
   "source": []
  },
  {
   "cell_type": "code",
   "execution_count": null,
   "metadata": {},
   "outputs": [],
   "source": []
  },
  {
   "cell_type": "code",
   "execution_count": null,
   "metadata": {},
   "outputs": [],
   "source": []
  },
  {
   "cell_type": "code",
   "execution_count": null,
   "metadata": {},
   "outputs": [],
   "source": []
  }
 ],
 "metadata": {
  "kernelspec": {
   "display_name": "Python 3",
   "language": "python",
   "name": "python3"
  },
  "language_info": {
   "codemirror_mode": {
    "name": "ipython",
    "version": 3
   },
   "file_extension": ".py",
   "mimetype": "text/x-python",
   "name": "python",
   "nbconvert_exporter": "python",
   "pygments_lexer": "ipython3",
   "version": "3.7.4"
  }
 },
 "nbformat": 4,
 "nbformat_minor": 4
}
